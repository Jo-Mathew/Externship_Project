{
  "nbformat": 4,
  "nbformat_minor": 0,
  "metadata": {
    "colab": {
      "provenance": []
    },
    "kernelspec": {
      "name": "python3",
      "display_name": "Python 3"
    },
    "language_info": {
      "name": "python"
    }
  },
  "cells": [
    {
      "cell_type": "markdown",
      "source": [
        "Student Name: Jomy Mathew"
      ],
      "metadata": {
        "id": "S6rif_zRbhzL"
      }
    },
    {
      "cell_type": "markdown",
      "source": [
        "## Build an ANN model for Drug classification"
      ],
      "metadata": {
        "id": "gUnMc7AlJeCG"
      }
    },
    {
      "cell_type": "markdown",
      "source": [
        "## Loading the dataset"
      ],
      "metadata": {
        "id": "1v8rKGVCJlJJ"
      }
    },
    {
      "cell_type": "code",
      "execution_count": 1,
      "metadata": {
        "colab": {
          "base_uri": "https://localhost:8080/",
          "height": 206
        },
        "id": "WcxaBe_jFooo",
        "outputId": "bb93e84b-ade6-47cb-89a7-7aa9284c9ec7"
      },
      "outputs": [
        {
          "output_type": "execute_result",
          "data": {
            "text/plain": [
              "   Age Sex      BP Cholesterol  Na_to_K   Drug\n",
              "0   23   F    HIGH        HIGH   25.355  DrugY\n",
              "1   47   M     LOW        HIGH   13.093  drugC\n",
              "2   47   M     LOW        HIGH   10.114  drugC\n",
              "3   28   F  NORMAL        HIGH    7.798  drugX\n",
              "4   61   F     LOW        HIGH   18.043  DrugY"
            ],
            "text/html": [
              "\n",
              "  <div id=\"df-11ac3834-d0c6-4113-bc3d-29e80b840ec4\" class=\"colab-df-container\">\n",
              "    <div>\n",
              "<style scoped>\n",
              "    .dataframe tbody tr th:only-of-type {\n",
              "        vertical-align: middle;\n",
              "    }\n",
              "\n",
              "    .dataframe tbody tr th {\n",
              "        vertical-align: top;\n",
              "    }\n",
              "\n",
              "    .dataframe thead th {\n",
              "        text-align: right;\n",
              "    }\n",
              "</style>\n",
              "<table border=\"1\" class=\"dataframe\">\n",
              "  <thead>\n",
              "    <tr style=\"text-align: right;\">\n",
              "      <th></th>\n",
              "      <th>Age</th>\n",
              "      <th>Sex</th>\n",
              "      <th>BP</th>\n",
              "      <th>Cholesterol</th>\n",
              "      <th>Na_to_K</th>\n",
              "      <th>Drug</th>\n",
              "    </tr>\n",
              "  </thead>\n",
              "  <tbody>\n",
              "    <tr>\n",
              "      <th>0</th>\n",
              "      <td>23</td>\n",
              "      <td>F</td>\n",
              "      <td>HIGH</td>\n",
              "      <td>HIGH</td>\n",
              "      <td>25.355</td>\n",
              "      <td>DrugY</td>\n",
              "    </tr>\n",
              "    <tr>\n",
              "      <th>1</th>\n",
              "      <td>47</td>\n",
              "      <td>M</td>\n",
              "      <td>LOW</td>\n",
              "      <td>HIGH</td>\n",
              "      <td>13.093</td>\n",
              "      <td>drugC</td>\n",
              "    </tr>\n",
              "    <tr>\n",
              "      <th>2</th>\n",
              "      <td>47</td>\n",
              "      <td>M</td>\n",
              "      <td>LOW</td>\n",
              "      <td>HIGH</td>\n",
              "      <td>10.114</td>\n",
              "      <td>drugC</td>\n",
              "    </tr>\n",
              "    <tr>\n",
              "      <th>3</th>\n",
              "      <td>28</td>\n",
              "      <td>F</td>\n",
              "      <td>NORMAL</td>\n",
              "      <td>HIGH</td>\n",
              "      <td>7.798</td>\n",
              "      <td>drugX</td>\n",
              "    </tr>\n",
              "    <tr>\n",
              "      <th>4</th>\n",
              "      <td>61</td>\n",
              "      <td>F</td>\n",
              "      <td>LOW</td>\n",
              "      <td>HIGH</td>\n",
              "      <td>18.043</td>\n",
              "      <td>DrugY</td>\n",
              "    </tr>\n",
              "  </tbody>\n",
              "</table>\n",
              "</div>\n",
              "    <div class=\"colab-df-buttons\">\n",
              "\n",
              "  <div class=\"colab-df-container\">\n",
              "    <button class=\"colab-df-convert\" onclick=\"convertToInteractive('df-11ac3834-d0c6-4113-bc3d-29e80b840ec4')\"\n",
              "            title=\"Convert this dataframe to an interactive table.\"\n",
              "            style=\"display:none;\">\n",
              "\n",
              "  <svg xmlns=\"http://www.w3.org/2000/svg\" height=\"24px\" viewBox=\"0 -960 960 960\">\n",
              "    <path d=\"M120-120v-720h720v720H120Zm60-500h600v-160H180v160Zm220 220h160v-160H400v160Zm0 220h160v-160H400v160ZM180-400h160v-160H180v160Zm440 0h160v-160H620v160ZM180-180h160v-160H180v160Zm440 0h160v-160H620v160Z\"/>\n",
              "  </svg>\n",
              "    </button>\n",
              "\n",
              "  <style>\n",
              "    .colab-df-container {\n",
              "      display:flex;\n",
              "      gap: 12px;\n",
              "    }\n",
              "\n",
              "    .colab-df-convert {\n",
              "      background-color: #E8F0FE;\n",
              "      border: none;\n",
              "      border-radius: 50%;\n",
              "      cursor: pointer;\n",
              "      display: none;\n",
              "      fill: #1967D2;\n",
              "      height: 32px;\n",
              "      padding: 0 0 0 0;\n",
              "      width: 32px;\n",
              "    }\n",
              "\n",
              "    .colab-df-convert:hover {\n",
              "      background-color: #E2EBFA;\n",
              "      box-shadow: 0px 1px 2px rgba(60, 64, 67, 0.3), 0px 1px 3px 1px rgba(60, 64, 67, 0.15);\n",
              "      fill: #174EA6;\n",
              "    }\n",
              "\n",
              "    .colab-df-buttons div {\n",
              "      margin-bottom: 4px;\n",
              "    }\n",
              "\n",
              "    [theme=dark] .colab-df-convert {\n",
              "      background-color: #3B4455;\n",
              "      fill: #D2E3FC;\n",
              "    }\n",
              "\n",
              "    [theme=dark] .colab-df-convert:hover {\n",
              "      background-color: #434B5C;\n",
              "      box-shadow: 0px 1px 3px 1px rgba(0, 0, 0, 0.15);\n",
              "      filter: drop-shadow(0px 1px 2px rgba(0, 0, 0, 0.3));\n",
              "      fill: #FFFFFF;\n",
              "    }\n",
              "  </style>\n",
              "\n",
              "    <script>\n",
              "      const buttonEl =\n",
              "        document.querySelector('#df-11ac3834-d0c6-4113-bc3d-29e80b840ec4 button.colab-df-convert');\n",
              "      buttonEl.style.display =\n",
              "        google.colab.kernel.accessAllowed ? 'block' : 'none';\n",
              "\n",
              "      async function convertToInteractive(key) {\n",
              "        const element = document.querySelector('#df-11ac3834-d0c6-4113-bc3d-29e80b840ec4');\n",
              "        const dataTable =\n",
              "          await google.colab.kernel.invokeFunction('convertToInteractive',\n",
              "                                                    [key], {});\n",
              "        if (!dataTable) return;\n",
              "\n",
              "        const docLinkHtml = 'Like what you see? Visit the ' +\n",
              "          '<a target=\"_blank\" href=https://colab.research.google.com/notebooks/data_table.ipynb>data table notebook</a>'\n",
              "          + ' to learn more about interactive tables.';\n",
              "        element.innerHTML = '';\n",
              "        dataTable['output_type'] = 'display_data';\n",
              "        await google.colab.output.renderOutput(dataTable, element);\n",
              "        const docLink = document.createElement('div');\n",
              "        docLink.innerHTML = docLinkHtml;\n",
              "        element.appendChild(docLink);\n",
              "      }\n",
              "    </script>\n",
              "  </div>\n",
              "\n",
              "\n",
              "<div id=\"df-642d913f-ad8d-4531-9070-90c8f90567b6\">\n",
              "  <button class=\"colab-df-quickchart\" onclick=\"quickchart('df-642d913f-ad8d-4531-9070-90c8f90567b6')\"\n",
              "            title=\"Suggest charts\"\n",
              "            style=\"display:none;\">\n",
              "\n",
              "<svg xmlns=\"http://www.w3.org/2000/svg\" height=\"24px\"viewBox=\"0 0 24 24\"\n",
              "     width=\"24px\">\n",
              "    <g>\n",
              "        <path d=\"M19 3H5c-1.1 0-2 .9-2 2v14c0 1.1.9 2 2 2h14c1.1 0 2-.9 2-2V5c0-1.1-.9-2-2-2zM9 17H7v-7h2v7zm4 0h-2V7h2v10zm4 0h-2v-4h2v4z\"/>\n",
              "    </g>\n",
              "</svg>\n",
              "  </button>\n",
              "\n",
              "<style>\n",
              "  .colab-df-quickchart {\n",
              "      --bg-color: #E8F0FE;\n",
              "      --fill-color: #1967D2;\n",
              "      --hover-bg-color: #E2EBFA;\n",
              "      --hover-fill-color: #174EA6;\n",
              "      --disabled-fill-color: #AAA;\n",
              "      --disabled-bg-color: #DDD;\n",
              "  }\n",
              "\n",
              "  [theme=dark] .colab-df-quickchart {\n",
              "      --bg-color: #3B4455;\n",
              "      --fill-color: #D2E3FC;\n",
              "      --hover-bg-color: #434B5C;\n",
              "      --hover-fill-color: #FFFFFF;\n",
              "      --disabled-bg-color: #3B4455;\n",
              "      --disabled-fill-color: #666;\n",
              "  }\n",
              "\n",
              "  .colab-df-quickchart {\n",
              "    background-color: var(--bg-color);\n",
              "    border: none;\n",
              "    border-radius: 50%;\n",
              "    cursor: pointer;\n",
              "    display: none;\n",
              "    fill: var(--fill-color);\n",
              "    height: 32px;\n",
              "    padding: 0;\n",
              "    width: 32px;\n",
              "  }\n",
              "\n",
              "  .colab-df-quickchart:hover {\n",
              "    background-color: var(--hover-bg-color);\n",
              "    box-shadow: 0 1px 2px rgba(60, 64, 67, 0.3), 0 1px 3px 1px rgba(60, 64, 67, 0.15);\n",
              "    fill: var(--button-hover-fill-color);\n",
              "  }\n",
              "\n",
              "  .colab-df-quickchart-complete:disabled,\n",
              "  .colab-df-quickchart-complete:disabled:hover {\n",
              "    background-color: var(--disabled-bg-color);\n",
              "    fill: var(--disabled-fill-color);\n",
              "    box-shadow: none;\n",
              "  }\n",
              "\n",
              "  .colab-df-spinner {\n",
              "    border: 2px solid var(--fill-color);\n",
              "    border-color: transparent;\n",
              "    border-bottom-color: var(--fill-color);\n",
              "    animation:\n",
              "      spin 1s steps(1) infinite;\n",
              "  }\n",
              "\n",
              "  @keyframes spin {\n",
              "    0% {\n",
              "      border-color: transparent;\n",
              "      border-bottom-color: var(--fill-color);\n",
              "      border-left-color: var(--fill-color);\n",
              "    }\n",
              "    20% {\n",
              "      border-color: transparent;\n",
              "      border-left-color: var(--fill-color);\n",
              "      border-top-color: var(--fill-color);\n",
              "    }\n",
              "    30% {\n",
              "      border-color: transparent;\n",
              "      border-left-color: var(--fill-color);\n",
              "      border-top-color: var(--fill-color);\n",
              "      border-right-color: var(--fill-color);\n",
              "    }\n",
              "    40% {\n",
              "      border-color: transparent;\n",
              "      border-right-color: var(--fill-color);\n",
              "      border-top-color: var(--fill-color);\n",
              "    }\n",
              "    60% {\n",
              "      border-color: transparent;\n",
              "      border-right-color: var(--fill-color);\n",
              "    }\n",
              "    80% {\n",
              "      border-color: transparent;\n",
              "      border-right-color: var(--fill-color);\n",
              "      border-bottom-color: var(--fill-color);\n",
              "    }\n",
              "    90% {\n",
              "      border-color: transparent;\n",
              "      border-bottom-color: var(--fill-color);\n",
              "    }\n",
              "  }\n",
              "</style>\n",
              "\n",
              "  <script>\n",
              "    async function quickchart(key) {\n",
              "      const quickchartButtonEl =\n",
              "        document.querySelector('#' + key + ' button');\n",
              "      quickchartButtonEl.disabled = true;  // To prevent multiple clicks.\n",
              "      quickchartButtonEl.classList.add('colab-df-spinner');\n",
              "      try {\n",
              "        const charts = await google.colab.kernel.invokeFunction(\n",
              "            'suggestCharts', [key], {});\n",
              "      } catch (error) {\n",
              "        console.error('Error during call to suggestCharts:', error);\n",
              "      }\n",
              "      quickchartButtonEl.classList.remove('colab-df-spinner');\n",
              "      quickchartButtonEl.classList.add('colab-df-quickchart-complete');\n",
              "    }\n",
              "    (() => {\n",
              "      let quickchartButtonEl =\n",
              "        document.querySelector('#df-642d913f-ad8d-4531-9070-90c8f90567b6 button');\n",
              "      quickchartButtonEl.style.display =\n",
              "        google.colab.kernel.accessAllowed ? 'block' : 'none';\n",
              "    })();\n",
              "  </script>\n",
              "</div>\n",
              "\n",
              "    </div>\n",
              "  </div>\n"
            ],
            "application/vnd.google.colaboratory.intrinsic+json": {
              "type": "dataframe",
              "variable_name": "data",
              "summary": "{\n  \"name\": \"data\",\n  \"rows\": 200,\n  \"fields\": [\n    {\n      \"column\": \"Age\",\n      \"properties\": {\n        \"dtype\": \"number\",\n        \"std\": 16,\n        \"min\": 15,\n        \"max\": 74,\n        \"num_unique_values\": 57,\n        \"samples\": [\n          23,\n          49,\n          37\n        ],\n        \"semantic_type\": \"\",\n        \"description\": \"\"\n      }\n    },\n    {\n      \"column\": \"Sex\",\n      \"properties\": {\n        \"dtype\": \"category\",\n        \"num_unique_values\": 2,\n        \"samples\": [\n          \"M\",\n          \"F\"\n        ],\n        \"semantic_type\": \"\",\n        \"description\": \"\"\n      }\n    },\n    {\n      \"column\": \"BP\",\n      \"properties\": {\n        \"dtype\": \"category\",\n        \"num_unique_values\": 3,\n        \"samples\": [\n          \"HIGH\",\n          \"LOW\"\n        ],\n        \"semantic_type\": \"\",\n        \"description\": \"\"\n      }\n    },\n    {\n      \"column\": \"Cholesterol\",\n      \"properties\": {\n        \"dtype\": \"category\",\n        \"num_unique_values\": 2,\n        \"samples\": [\n          \"NORMAL\",\n          \"HIGH\"\n        ],\n        \"semantic_type\": \"\",\n        \"description\": \"\"\n      }\n    },\n    {\n      \"column\": \"Na_to_K\",\n      \"properties\": {\n        \"dtype\": \"number\",\n        \"std\": 7.223955528459516,\n        \"min\": 6.269,\n        \"max\": 38.247,\n        \"num_unique_values\": 198,\n        \"samples\": [\n          27.05,\n          9.281\n        ],\n        \"semantic_type\": \"\",\n        \"description\": \"\"\n      }\n    },\n    {\n      \"column\": \"Drug\",\n      \"properties\": {\n        \"dtype\": \"category\",\n        \"num_unique_values\": 5,\n        \"samples\": [\n          \"drugC\",\n          \"drugB\"\n        ],\n        \"semantic_type\": \"\",\n        \"description\": \"\"\n      }\n    }\n  ]\n}"
            }
          },
          "metadata": {},
          "execution_count": 1
        }
      ],
      "source": [
        "# loading the dataset using pandas library\n",
        "import pandas as pd\n",
        "data = pd.read_csv('DrugClassification.csv')\n",
        "data.head() # for displaying first 5 rows"
      ]
    },
    {
      "cell_type": "markdown",
      "source": [
        "There are 6 columns: Age, Sex, BP, Cholesterol, Na_to_K (Soduim to Potassium), and corresponding Drug"
      ],
      "metadata": {
        "id": "duq_KTktJxZ1"
      }
    },
    {
      "cell_type": "markdown",
      "source": [
        "## Shape of dataset (Number of Rows and Columns)"
      ],
      "metadata": {
        "id": "brLwp6PpJ9Ed"
      }
    },
    {
      "cell_type": "code",
      "source": [
        "data.shape"
      ],
      "metadata": {
        "colab": {
          "base_uri": "https://localhost:8080/"
        },
        "id": "VvP5moTaHRO0",
        "outputId": "f16799cc-fdb8-4662-b7e4-40e40a4f3078"
      },
      "execution_count": 2,
      "outputs": [
        {
          "output_type": "execute_result",
          "data": {
            "text/plain": [
              "(200, 6)"
            ]
          },
          "metadata": {},
          "execution_count": 2
        }
      ]
    },
    {
      "cell_type": "markdown",
      "source": [
        "There are 200 rows and 6 columns"
      ],
      "metadata": {
        "id": "kKV3sqvsKAg8"
      }
    },
    {
      "cell_type": "code",
      "source": [
        "data.info()"
      ],
      "metadata": {
        "colab": {
          "base_uri": "https://localhost:8080/"
        },
        "id": "_N2-pQzIHTAd",
        "outputId": "086beb96-f86e-4460-bfa1-3a80d41647a4"
      },
      "execution_count": 3,
      "outputs": [
        {
          "output_type": "stream",
          "name": "stdout",
          "text": [
            "<class 'pandas.core.frame.DataFrame'>\n",
            "RangeIndex: 200 entries, 0 to 199\n",
            "Data columns (total 6 columns):\n",
            " #   Column       Non-Null Count  Dtype  \n",
            "---  ------       --------------  -----  \n",
            " 0   Age          200 non-null    int64  \n",
            " 1   Sex          200 non-null    object \n",
            " 2   BP           200 non-null    object \n",
            " 3   Cholesterol  200 non-null    object \n",
            " 4   Na_to_K      200 non-null    float64\n",
            " 5   Drug         200 non-null    object \n",
            "dtypes: float64(1), int64(1), object(4)\n",
            "memory usage: 9.5+ KB\n"
          ]
        }
      ]
    },
    {
      "cell_type": "markdown",
      "source": [
        "We could see the datatypes and not null values"
      ],
      "metadata": {
        "id": "p7QbbpofKEfe"
      }
    },
    {
      "cell_type": "markdown",
      "source": [
        "### Unique Value Counts"
      ],
      "metadata": {
        "id": "pbh6VjIeKIjH"
      }
    },
    {
      "cell_type": "code",
      "source": [
        "data['Drug'].value_counts()"
      ],
      "metadata": {
        "colab": {
          "base_uri": "https://localhost:8080/"
        },
        "id": "r3c5ju5vHXdm",
        "outputId": "01ccf487-bfb0-4cdc-f9b6-afab1d1b0faa"
      },
      "execution_count": 4,
      "outputs": [
        {
          "output_type": "execute_result",
          "data": {
            "text/plain": [
              "DrugY    91\n",
              "drugX    54\n",
              "drugA    23\n",
              "drugC    16\n",
              "drugB    16\n",
              "Name: Drug, dtype: int64"
            ]
          },
          "metadata": {},
          "execution_count": 4
        }
      ]
    },
    {
      "cell_type": "markdown",
      "source": [
        "There are 5 types of Drugs in the dataset Drug (Y, X, A, C, B)"
      ],
      "metadata": {
        "id": "pUJ9iQKVKS_N"
      }
    },
    {
      "cell_type": "code",
      "source": [
        "data['BP'].value_counts()"
      ],
      "metadata": {
        "colab": {
          "base_uri": "https://localhost:8080/"
        },
        "id": "UwoM6y8EHscB",
        "outputId": "84b7dc38-1fed-4e89-8f56-d0f63a77b2ff"
      },
      "execution_count": 5,
      "outputs": [
        {
          "output_type": "execute_result",
          "data": {
            "text/plain": [
              "HIGH      77\n",
              "LOW       64\n",
              "NORMAL    59\n",
              "Name: BP, dtype: int64"
            ]
          },
          "metadata": {},
          "execution_count": 5
        }
      ]
    },
    {
      "cell_type": "markdown",
      "source": [
        "There are 3 classification of BP (High, Low, Normal)"
      ],
      "metadata": {
        "id": "04oNlISIKbdP"
      }
    },
    {
      "cell_type": "code",
      "source": [
        "data['Cholesterol'].value_counts()"
      ],
      "metadata": {
        "colab": {
          "base_uri": "https://localhost:8080/"
        },
        "id": "XrAomhFLHwSm",
        "outputId": "a6b8f311-24f9-4388-c680-8d561ca8f1da"
      },
      "execution_count": 6,
      "outputs": [
        {
          "output_type": "execute_result",
          "data": {
            "text/plain": [
              "HIGH      103\n",
              "NORMAL     97\n",
              "Name: Cholesterol, dtype: int64"
            ]
          },
          "metadata": {},
          "execution_count": 6
        }
      ]
    },
    {
      "cell_type": "markdown",
      "source": [
        "There are 3 classification of Cholesterol (High, Normal)"
      ],
      "metadata": {
        "id": "DTIe4VANKj4A"
      }
    },
    {
      "cell_type": "code",
      "source": [
        "data['Sex'].value_counts()"
      ],
      "metadata": {
        "colab": {
          "base_uri": "https://localhost:8080/"
        },
        "id": "MNAQxl7nH6te",
        "outputId": "d3a240ae-9812-4bb5-c6d9-a37f956f21c9"
      },
      "execution_count": 7,
      "outputs": [
        {
          "output_type": "execute_result",
          "data": {
            "text/plain": [
              "M    104\n",
              "F     96\n",
              "Name: Sex, dtype: int64"
            ]
          },
          "metadata": {},
          "execution_count": 7
        }
      ]
    },
    {
      "cell_type": "markdown",
      "source": [
        "## Checking for Missing Values"
      ],
      "metadata": {
        "id": "hiLEYF4sKqsx"
      }
    },
    {
      "cell_type": "code",
      "source": [
        "data.isnull().sum()"
      ],
      "metadata": {
        "colab": {
          "base_uri": "https://localhost:8080/"
        },
        "id": "3TdJkxyjICnW",
        "outputId": "f107d0a2-5a7f-4226-877e-9a629ee3779a"
      },
      "execution_count": 8,
      "outputs": [
        {
          "output_type": "execute_result",
          "data": {
            "text/plain": [
              "Age            0\n",
              "Sex            0\n",
              "BP             0\n",
              "Cholesterol    0\n",
              "Na_to_K        0\n",
              "Drug           0\n",
              "dtype: int64"
            ]
          },
          "metadata": {},
          "execution_count": 8
        }
      ]
    },
    {
      "cell_type": "markdown",
      "source": [
        "There are no missing values in the dataset"
      ],
      "metadata": {
        "id": "zc3VmRhiKtbv"
      }
    },
    {
      "cell_type": "markdown",
      "source": [
        "## Visualizations"
      ],
      "metadata": {
        "id": "kRf4liodKxSC"
      }
    },
    {
      "cell_type": "markdown",
      "source": [
        "### Univariate Analysis"
      ],
      "metadata": {
        "id": "AUXe7MNXKzji"
      }
    },
    {
      "cell_type": "code",
      "source": [
        "# Univariate analysis for Age\n",
        "import matplotlib.pyplot as plt\n",
        "import seaborn as sns\n",
        "plt.figure(figsize=(8, 5))\n",
        "sns.histplot(data['Age'], bins=20, kde=True, color='skyblue')\n",
        "plt.title('Distribution of Age')\n",
        "plt.xlabel('Age')\n",
        "plt.ylabel('Frequency')\n",
        "plt.show()"
      ],
      "metadata": {
        "colab": {
          "base_uri": "https://localhost:8080/",
          "height": 487
        },
        "id": "w4kw0jNkIH48",
        "outputId": "aaa034d4-cd84-498e-8bc4-07d6489d4a18"
      },
      "execution_count": 9,
      "outputs": [
        {
          "output_type": "display_data",
          "data": {
            "text/plain": [
              "<Figure size 800x500 with 1 Axes>"
            ],
            "image/png": "[encoded data removed]"
          },
          "metadata": {}
        }
      ]
    },
    {
      "cell_type": "markdown",
      "source": [
        "We could see a even distribution of age from 20 to 70 years of age"
      ],
      "metadata": {
        "id": "nLT9lG0PK3sW"
      }
    },
    {
      "cell_type": "code",
      "source": [
        "# Univariate analysis for Sex\n",
        "plt.figure(figsize=(6, 4))\n",
        "sns.countplot(x='Sex', data=data, palette='pastel')\n",
        "plt.title('Distribution of Sex')\n",
        "plt.xlabel('Sex')\n",
        "plt.ylabel('Count')\n",
        "plt.show()"
      ],
      "metadata": {
        "colab": {
          "base_uri": "https://localhost:8080/",
          "height": 502
        },
        "id": "5Sa_lBnUIcta",
        "outputId": "250ef7a6-69ce-41f3-e9e1-ebf8f068e3de"
      },
      "execution_count": 10,
      "outputs": [
        {
          "output_type": "stream",
          "name": "stderr",
          "text": [
            "<ipython-input-10-f7dbf147c0ec>:3: FutureWarning: \n",
            "\n",
            "Passing `palette` without assigning `hue` is deprecated and will be removed in v0.14.0. Assign the `x` variable to `hue` and set `legend=False` for the same effect.\n",
            "\n",
            "  sns.countplot(x='Sex', data=data, palette='pastel')\n"
          ]
        },
        {
          "output_type": "display_data",
          "data": {
            "text/plain": [
              "<Figure size 600x400 with 1 Axes>"
            ],
            "image/png": "[encoded data removed]"
          },
          "metadata": {}
        }
      ]
    },
    {
      "cell_type": "markdown",
      "source": [
        "Here, it is noticeable that Males are more than females in the dataset"
      ],
      "metadata": {
        "id": "PqWPaKV2LBdf"
      }
    },
    {
      "cell_type": "code",
      "source": [
        "# Univariate analysis for BP\n",
        "plt.figure(figsize=(6, 4))\n",
        "sns.countplot(x='BP', data=data, palette='pastel')\n",
        "plt.title('Distribution of Blood Pressure')\n",
        "plt.xlabel('Blood Pressure')\n",
        "plt.ylabel('Count')\n",
        "plt.show()"
      ],
      "metadata": {
        "colab": {
          "base_uri": "https://localhost:8080/",
          "height": 502
        },
        "id": "I08O-l-XIiOx",
        "outputId": "81e4c1e0-94a1-423d-fb76-d888ae67a3d9"
      },
      "execution_count": 11,
      "outputs": [
        {
          "output_type": "stream",
          "name": "stderr",
          "text": [
            "<ipython-input-11-a95342e9cf30>:3: FutureWarning: \n",
            "\n",
            "Passing `palette` without assigning `hue` is deprecated and will be removed in v0.14.0. Assign the `x` variable to `hue` and set `legend=False` for the same effect.\n",
            "\n",
            "  sns.countplot(x='BP', data=data, palette='pastel')\n"
          ]
        },
        {
          "output_type": "display_data",
          "data": {
            "text/plain": [
              "<Figure size 600x400 with 1 Axes>"
            ],
            "image/png": "[encoded data removed]"
          },
          "metadata": {}
        }
      ]
    },
    {
      "cell_type": "markdown",
      "source": [
        "Most BP falls in HIGH range followed by LOW"
      ],
      "metadata": {
        "id": "q63LfRlULKL1"
      }
    },
    {
      "cell_type": "code",
      "source": [
        "# Univariate analysis for Cholesterol\n",
        "plt.figure(figsize=(6, 4))\n",
        "sns.countplot(x='Cholesterol', data=data, palette='pastel')\n",
        "plt.title('Distribution of Cholesterol')\n",
        "plt.xlabel('Cholesterol')\n",
        "plt.ylabel('Count')\n",
        "plt.show()"
      ],
      "metadata": {
        "colab": {
          "base_uri": "https://localhost:8080/",
          "height": 502
        },
        "id": "uY2fZ0LJInS9",
        "outputId": "3f4cfc36-1d33-46a5-9e4a-8235c4d41ec4"
      },
      "execution_count": 12,
      "outputs": [
        {
          "output_type": "stream",
          "name": "stderr",
          "text": [
            "<ipython-input-12-88cccfa52982>:3: FutureWarning: \n",
            "\n",
            "Passing `palette` without assigning `hue` is deprecated and will be removed in v0.14.0. Assign the `x` variable to `hue` and set `legend=False` for the same effect.\n",
            "\n",
            "  sns.countplot(x='Cholesterol', data=data, palette='pastel')\n"
          ]
        },
        {
          "output_type": "display_data",
          "data": {
            "text/plain": [
              "<Figure size 600x400 with 1 Axes>"
            ],
            "image/png": "[encoded data removed]"
          },
          "metadata": {}
        }
      ]
    },
    {
      "cell_type": "markdown",
      "source": [
        "Here, the most data falls in High category of Cholesterol"
      ],
      "metadata": {
        "id": "cC6pVCErLSjf"
      }
    },
    {
      "cell_type": "code",
      "source": [
        "# Univariate analysis for Na_to_K\n",
        "plt.figure(figsize=(8, 5))\n",
        "sns.histplot(data['Na_to_K'], bins=20, kde=True, color='salmon')\n",
        "plt.title('Distribution of Na_to_K Ratio')\n",
        "plt.xlabel('Na_to_K Ratio')\n",
        "plt.ylabel('Frequency')\n",
        "plt.show()"
      ],
      "metadata": {
        "colab": {
          "base_uri": "https://localhost:8080/",
          "height": 487
        },
        "id": "WO28jKiUIxmW",
        "outputId": "0e7e8604-03a1-4964-b7e9-37a2f6606544"
      },
      "execution_count": 13,
      "outputs": [
        {
          "output_type": "display_data",
          "data": {
            "text/plain": [
              "<Figure size 800x500 with 1 Axes>"
            ],
            "image/png": "[encoded data removed]"
          },
          "metadata": {}
        }
      ]
    },
    {
      "cell_type": "code",
      "source": [
        "# Univariate analysis for Drug\n",
        "plt.figure(figsize=(6, 4))\n",
        "sns.countplot(x='Drug', data=data, palette='pastel')\n",
        "plt.title('Distribution of Drug')\n",
        "plt.xlabel('Drug')\n",
        "plt.ylabel('Count')\n",
        "plt.show()"
      ],
      "metadata": {
        "colab": {
          "base_uri": "https://localhost:8080/",
          "height": 502
        },
        "id": "FBB__i67Ir0-",
        "outputId": "b5082ff6-6de7-48c0-b9cf-a5ca4ac21e3d"
      },
      "execution_count": 14,
      "outputs": [
        {
          "output_type": "stream",
          "name": "stderr",
          "text": [
            "<ipython-input-14-6135241b6d06>:3: FutureWarning: \n",
            "\n",
            "Passing `palette` without assigning `hue` is deprecated and will be removed in v0.14.0. Assign the `x` variable to `hue` and set `legend=False` for the same effect.\n",
            "\n",
            "  sns.countplot(x='Drug', data=data, palette='pastel')\n"
          ]
        },
        {
          "output_type": "display_data",
          "data": {
            "text/plain": [
              "<Figure size 600x400 with 1 Axes>"
            ],
            "image/png": "[encoded data removed]"
          },
          "metadata": {}
        }
      ]
    },
    {
      "cell_type": "markdown",
      "source": [
        "It is noticeable that Drug Y is most commonly used followed by Drug x and Drug A"
      ],
      "metadata": {
        "id": "oG8pwM3OLY_e"
      }
    },
    {
      "cell_type": "markdown",
      "source": [
        "### Bi-Variate Analysis"
      ],
      "metadata": {
        "id": "cpOQ3SxmLjN-"
      }
    },
    {
      "cell_type": "code",
      "source": [
        "# Bivariate analysis between Age and Drug\n",
        "plt.figure(figsize=(10, 6))\n",
        "sns.boxplot(x='Drug', y='Age', data=data, palette='pastel')\n",
        "plt.title('Age Distribution by Drug')\n",
        "plt.xlabel('Drug')\n",
        "plt.ylabel('Age')\n",
        "plt.show()"
      ],
      "metadata": {
        "colab": {
          "base_uri": "https://localhost:8080/",
          "height": 656
        },
        "id": "3jBv_dD9I8Iv",
        "outputId": "c6989739-5a1c-4354-efb3-245dd3abdb8b"
      },
      "execution_count": 15,
      "outputs": [
        {
          "output_type": "stream",
          "name": "stderr",
          "text": [
            "<ipython-input-15-b9f4f890b78c>:3: FutureWarning: \n",
            "\n",
            "Passing `palette` without assigning `hue` is deprecated and will be removed in v0.14.0. Assign the `x` variable to `hue` and set `legend=False` for the same effect.\n",
            "\n",
            "  sns.boxplot(x='Drug', y='Age', data=data, palette='pastel')\n"
          ]
        },
        {
          "output_type": "display_data",
          "data": {
            "text/plain": [
              "<Figure size 1000x600 with 1 Axes>"
            ],
            "image/png": "[encoded data removed]"
          },
          "metadata": {}
        }
      ]
    },
    {
      "cell_type": "code",
      "source": [
        "# Bivariate analysis between Sex and Drug\n",
        "plt.figure(figsize=(6, 4))\n",
        "sns.countplot(x='Drug', hue='Sex', data=data, palette='pastel')\n",
        "plt.title('Distribution of Drug by Sex')\n",
        "plt.xlabel('Drug')\n",
        "plt.ylabel('Count')\n",
        "plt.legend(title='Sex')\n",
        "plt.show()"
      ],
      "metadata": {
        "colab": {
          "base_uri": "https://localhost:8080/",
          "height": 410
        },
        "id": "FnNeJeAEJC5G",
        "outputId": "024c1079-5679-4e65-bf0e-102ec1c448fb"
      },
      "execution_count": 16,
      "outputs": [
        {
          "output_type": "display_data",
          "data": {
            "text/plain": [
              "<Figure size 600x400 with 1 Axes>"
            ],
            "image/png": "[encoded data removed]"
          },
          "metadata": {}
        }
      ]
    },
    {
      "cell_type": "markdown",
      "source": [
        "Drug Y is consumed by mostly Females. Drug X is consumed by both Male and Female equally"
      ],
      "metadata": {
        "id": "95YMlsMqLsv4"
      }
    },
    {
      "cell_type": "code",
      "source": [
        "# Bivariate analysis between BP and Drug\n",
        "plt.figure(figsize=(8, 5))\n",
        "sns.countplot(x='Drug', hue='BP', data=data, palette='pastel')\n",
        "plt.title('Distribution of Drug by Blood Pressure')\n",
        "plt.xlabel('Drug')\n",
        "plt.ylabel('Count')\n",
        "plt.legend(title='Blood Pressure')\n",
        "plt.show()"
      ],
      "metadata": {
        "colab": {
          "base_uri": "https://localhost:8080/",
          "height": 487
        },
        "id": "msAFcdXjJGw2",
        "outputId": "61b52d99-47bf-44d5-9034-d5f0ca554aa4"
      },
      "execution_count": 17,
      "outputs": [
        {
          "output_type": "display_data",
          "data": {
            "text/plain": [
              "<Figure size 800x500 with 1 Axes>"
            ],
            "image/png": "[encoded data removed]"
          },
          "metadata": {}
        }
      ]
    },
    {
      "cell_type": "code",
      "source": [
        "# Bivariate analysis between Cholesterol and Drug\n",
        "plt.figure(figsize=(8, 5))\n",
        "sns.countplot(x='Drug', hue='Cholesterol', data=data, palette='pastel')\n",
        "plt.title('Distribution of Drug by Cholesterol')\n",
        "plt.xlabel('Drug')\n",
        "plt.ylabel('Count')\n",
        "plt.legend(title='Cholesterol')\n",
        "plt.show()"
      ],
      "metadata": {
        "colab": {
          "base_uri": "https://localhost:8080/",
          "height": 487
        },
        "id": "lB4I726dJOLX",
        "outputId": "68dc9097-9f2f-4f67-bf74-1805030fc5af"
      },
      "execution_count": 18,
      "outputs": [
        {
          "output_type": "display_data",
          "data": {
            "text/plain": [
              "<Figure size 800x500 with 1 Axes>"
            ],
            "image/png": "[encoded data removed]"
          },
          "metadata": {}
        }
      ]
    },
    {
      "cell_type": "markdown",
      "source": [
        "# Label Encoding"
      ],
      "metadata": {
        "id": "Kb0-fR3dMB79"
      }
    },
    {
      "cell_type": "code",
      "source": [
        "from sklearn.preprocessing import LabelEncoder, StandardScaler\n",
        "label_encoder = LabelEncoder()\n",
        "data['Sex'] = label_encoder.fit_transform(data['Sex'])\n",
        "data['BP'] = label_encoder.fit_transform(data['BP'])\n",
        "data['Cholesterol'] = label_encoder.fit_transform(data['Cholesterol'])\n",
        "data['Drug'] = label_encoder.fit_transform(data['Drug'])"
      ],
      "metadata": {
        "id": "-17G4L6VMEOm"
      },
      "execution_count": 19,
      "outputs": []
    },
    {
      "cell_type": "code",
      "source": [
        "data.head()"
      ],
      "metadata": {
        "colab": {
          "base_uri": "https://localhost:8080/",
          "height": 206
        },
        "id": "CRYxfv_iMKtj",
        "outputId": "51260986-9aa8-4684-cbcb-0541a0216b68"
      },
      "execution_count": 20,
      "outputs": [
        {
          "output_type": "execute_result",
          "data": {
            "text/plain": [
              "   Age  Sex  BP  Cholesterol  Na_to_K  Drug\n",
              "0   23    0   0            0   25.355     0\n",
              "1   47    1   1            0   13.093     3\n",
              "2   47    1   1            0   10.114     3\n",
              "3   28    0   2            0    7.798     4\n",
              "4   61    0   1            0   18.043     0"
            ],
            "text/html": [
              "\n",
              "  <div id=\"df-0d928766-9241-47bb-ae33-c09eb2d9c206\" class=\"colab-df-container\">\n",
              "    <div>\n",
              "<style scoped>\n",
              "    .dataframe tbody tr th:only-of-type {\n",
              "        vertical-align: middle;\n",
              "    }\n",
              "\n",
              "    .dataframe tbody tr th {\n",
              "        vertical-align: top;\n",
              "    }\n",
              "\n",
              "    .dataframe thead th {\n",
              "        text-align: right;\n",
              "    }\n",
              "</style>\n",
              "<table border=\"1\" class=\"dataframe\">\n",
              "  <thead>\n",
              "    <tr style=\"text-align: right;\">\n",
              "      <th></th>\n",
              "      <th>Age</th>\n",
              "      <th>Sex</th>\n",
              "      <th>BP</th>\n",
              "      <th>Cholesterol</th>\n",
              "      <th>Na_to_K</th>\n",
              "      <th>Drug</th>\n",
              "    </tr>\n",
              "  </thead>\n",
              "  <tbody>\n",
              "    <tr>\n",
              "      <th>0</th>\n",
              "      <td>23</td>\n",
              "      <td>0</td>\n",
              "      <td>0</td>\n",
              "      <td>0</td>\n",
              "      <td>25.355</td>\n",
              "      <td>0</td>\n",
              "    </tr>\n",
              "    <tr>\n",
              "      <th>1</th>\n",
              "      <td>47</td>\n",
              "      <td>1</td>\n",
              "      <td>1</td>\n",
              "      <td>0</td>\n",
              "      <td>13.093</td>\n",
              "      <td>3</td>\n",
              "    </tr>\n",
              "    <tr>\n",
              "      <th>2</th>\n",
              "      <td>47</td>\n",
              "      <td>1</td>\n",
              "      <td>1</td>\n",
              "      <td>0</td>\n",
              "      <td>10.114</td>\n",
              "      <td>3</td>\n",
              "    </tr>\n",
              "    <tr>\n",
              "      <th>3</th>\n",
              "      <td>28</td>\n",
              "      <td>0</td>\n",
              "      <td>2</td>\n",
              "      <td>0</td>\n",
              "      <td>7.798</td>\n",
              "      <td>4</td>\n",
              "    </tr>\n",
              "    <tr>\n",
              "      <th>4</th>\n",
              "      <td>61</td>\n",
              "      <td>0</td>\n",
              "      <td>1</td>\n",
              "      <td>0</td>\n",
              "      <td>18.043</td>\n",
              "      <td>0</td>\n",
              "    </tr>\n",
              "  </tbody>\n",
              "</table>\n",
              "</div>\n",
              "    <div class=\"colab-df-buttons\">\n",
              "\n",
              "  <div class=\"colab-df-container\">\n",
              "    <button class=\"colab-df-convert\" onclick=\"convertToInteractive('df-0d928766-9241-47bb-ae33-c09eb2d9c206')\"\n",
              "            title=\"Convert this dataframe to an interactive table.\"\n",
              "            style=\"display:none;\">\n",
              "\n",
              "  <svg xmlns=\"http://www.w3.org/2000/svg\" height=\"24px\" viewBox=\"0 -960 960 960\">\n",
              "    <path d=\"M120-120v-720h720v720H120Zm60-500h600v-160H180v160Zm220 220h160v-160H400v160Zm0 220h160v-160H400v160ZM180-400h160v-160H180v160Zm440 0h160v-160H620v160ZM180-180h160v-160H180v160Zm440 0h160v-160H620v160Z\"/>\n",
              "  </svg>\n",
              "    </button>\n",
              "\n",
              "  <style>\n",
              "    .colab-df-container {\n",
              "      display:flex;\n",
              "      gap: 12px;\n",
              "    }\n",
              "\n",
              "    .colab-df-convert {\n",
              "      background-color: #E8F0FE;\n",
              "      border: none;\n",
              "      border-radius: 50%;\n",
              "      cursor: pointer;\n",
              "      display: none;\n",
              "      fill: #1967D2;\n",
              "      height: 32px;\n",
              "      padding: 0 0 0 0;\n",
              "      width: 32px;\n",
              "    }\n",
              "\n",
              "    .colab-df-convert:hover {\n",
              "      background-color: #E2EBFA;\n",
              "      box-shadow: 0px 1px 2px rgba(60, 64, 67, 0.3), 0px 1px 3px 1px rgba(60, 64, 67, 0.15);\n",
              "      fill: #174EA6;\n",
              "    }\n",
              "\n",
              "    .colab-df-buttons div {\n",
              "      margin-bottom: 4px;\n",
              "    }\n",
              "\n",
              "    [theme=dark] .colab-df-convert {\n",
              "      background-color: #3B4455;\n",
              "      fill: #D2E3FC;\n",
              "    }\n",
              "\n",
              "    [theme=dark] .colab-df-convert:hover {\n",
              "      background-color: #434B5C;\n",
              "      box-shadow: 0px 1px 3px 1px rgba(0, 0, 0, 0.15);\n",
              "      filter: drop-shadow(0px 1px 2px rgba(0, 0, 0, 0.3));\n",
              "      fill: #FFFFFF;\n",
              "    }\n",
              "  </style>\n",
              "\n",
              "    <script>\n",
              "      const buttonEl =\n",
              "        document.querySelector('#df-0d928766-9241-47bb-ae33-c09eb2d9c206 button.colab-df-convert');\n",
              "      buttonEl.style.display =\n",
              "        google.colab.kernel.accessAllowed ? 'block' : 'none';\n",
              "\n",
              "      async function convertToInteractive(key) {\n",
              "        const element = document.querySelector('#df-0d928766-9241-47bb-ae33-c09eb2d9c206');\n",
              "        const dataTable =\n",
              "          await google.colab.kernel.invokeFunction('convertToInteractive',\n",
              "                                                    [key], {});\n",
              "        if (!dataTable) return;\n",
              "\n",
              "        const docLinkHtml = 'Like what you see? Visit the ' +\n",
              "          '<a target=\"_blank\" href=https://colab.research.google.com/notebooks/data_table.ipynb>data table notebook</a>'\n",
              "          + ' to learn more about interactive tables.';\n",
              "        element.innerHTML = '';\n",
              "        dataTable['output_type'] = 'display_data';\n",
              "        await google.colab.output.renderOutput(dataTable, element);\n",
              "        const docLink = document.createElement('div');\n",
              "        docLink.innerHTML = docLinkHtml;\n",
              "        element.appendChild(docLink);\n",
              "      }\n",
              "    </script>\n",
              "  </div>\n",
              "\n",
              "\n",
              "<div id=\"df-0b8d81e5-0090-4bf7-a1a1-22e9e6d3e70e\">\n",
              "  <button class=\"colab-df-quickchart\" onclick=\"quickchart('df-0b8d81e5-0090-4bf7-a1a1-22e9e6d3e70e')\"\n",
              "            title=\"Suggest charts\"\n",
              "            style=\"display:none;\">\n",
              "\n",
              "<svg xmlns=\"http://www.w3.org/2000/svg\" height=\"24px\"viewBox=\"0 0 24 24\"\n",
              "     width=\"24px\">\n",
              "    <g>\n",
              "        <path d=\"M19 3H5c-1.1 0-2 .9-2 2v14c0 1.1.9 2 2 2h14c1.1 0 2-.9 2-2V5c0-1.1-.9-2-2-2zM9 17H7v-7h2v7zm4 0h-2V7h2v10zm4 0h-2v-4h2v4z\"/>\n",
              "    </g>\n",
              "</svg>\n",
              "  </button>\n",
              "\n",
              "<style>\n",
              "  .colab-df-quickchart {\n",
              "      --bg-color: #E8F0FE;\n",
              "      --fill-color: #1967D2;\n",
              "      --hover-bg-color: #E2EBFA;\n",
              "      --hover-fill-color: #174EA6;\n",
              "      --disabled-fill-color: #AAA;\n",
              "      --disabled-bg-color: #DDD;\n",
              "  }\n",
              "\n",
              "  [theme=dark] .colab-df-quickchart {\n",
              "      --bg-color: #3B4455;\n",
              "      --fill-color: #D2E3FC;\n",
              "      --hover-bg-color: #434B5C;\n",
              "      --hover-fill-color: #FFFFFF;\n",
              "      --disabled-bg-color: #3B4455;\n",
              "      --disabled-fill-color: #666;\n",
              "  }\n",
              "\n",
              "  .colab-df-quickchart {\n",
              "    background-color: var(--bg-color);\n",
              "    border: none;\n",
              "    border-radius: 50%;\n",
              "    cursor: pointer;\n",
              "    display: none;\n",
              "    fill: var(--fill-color);\n",
              "    height: 32px;\n",
              "    padding: 0;\n",
              "    width: 32px;\n",
              "  }\n",
              "\n",
              "  .colab-df-quickchart:hover {\n",
              "    background-color: var(--hover-bg-color);\n",
              "    box-shadow: 0 1px 2px rgba(60, 64, 67, 0.3), 0 1px 3px 1px rgba(60, 64, 67, 0.15);\n",
              "    fill: var(--button-hover-fill-color);\n",
              "  }\n",
              "\n",
              "  .colab-df-quickchart-complete:disabled,\n",
              "  .colab-df-quickchart-complete:disabled:hover {\n",
              "    background-color: var(--disabled-bg-color);\n",
              "    fill: var(--disabled-fill-color);\n",
              "    box-shadow: none;\n",
              "  }\n",
              "\n",
              "  .colab-df-spinner {\n",
              "    border: 2px solid var(--fill-color);\n",
              "    border-color: transparent;\n",
              "    border-bottom-color: var(--fill-color);\n",
              "    animation:\n",
              "      spin 1s steps(1) infinite;\n",
              "  }\n",
              "\n",
              "  @keyframes spin {\n",
              "    0% {\n",
              "      border-color: transparent;\n",
              "      border-bottom-color: var(--fill-color);\n",
              "      border-left-color: var(--fill-color);\n",
              "    }\n",
              "    20% {\n",
              "      border-color: transparent;\n",
              "      border-left-color: var(--fill-color);\n",
              "      border-top-color: var(--fill-color);\n",
              "    }\n",
              "    30% {\n",
              "      border-color: transparent;\n",
              "      border-left-color: var(--fill-color);\n",
              "      border-top-color: var(--fill-color);\n",
              "      border-right-color: var(--fill-color);\n",
              "    }\n",
              "    40% {\n",
              "      border-color: transparent;\n",
              "      border-right-color: var(--fill-color);\n",
              "      border-top-color: var(--fill-color);\n",
              "    }\n",
              "    60% {\n",
              "      border-color: transparent;\n",
              "      border-right-color: var(--fill-color);\n",
              "    }\n",
              "    80% {\n",
              "      border-color: transparent;\n",
              "      border-right-color: var(--fill-color);\n",
              "      border-bottom-color: var(--fill-color);\n",
              "    }\n",
              "    90% {\n",
              "      border-color: transparent;\n",
              "      border-bottom-color: var(--fill-color);\n",
              "    }\n",
              "  }\n",
              "</style>\n",
              "\n",
              "  <script>\n",
              "    async function quickchart(key) {\n",
              "      const quickchartButtonEl =\n",
              "        document.querySelector('#' + key + ' button');\n",
              "      quickchartButtonEl.disabled = true;  // To prevent multiple clicks.\n",
              "      quickchartButtonEl.classList.add('colab-df-spinner');\n",
              "      try {\n",
              "        const charts = await google.colab.kernel.invokeFunction(\n",
              "            'suggestCharts', [key], {});\n",
              "      } catch (error) {\n",
              "        console.error('Error during call to suggestCharts:', error);\n",
              "      }\n",
              "      quickchartButtonEl.classList.remove('colab-df-spinner');\n",
              "      quickchartButtonEl.classList.add('colab-df-quickchart-complete');\n",
              "    }\n",
              "    (() => {\n",
              "      let quickchartButtonEl =\n",
              "        document.querySelector('#df-0b8d81e5-0090-4bf7-a1a1-22e9e6d3e70e button');\n",
              "      quickchartButtonEl.style.display =\n",
              "        google.colab.kernel.accessAllowed ? 'block' : 'none';\n",
              "    })();\n",
              "  </script>\n",
              "</div>\n",
              "\n",
              "    </div>\n",
              "  </div>\n"
            ],
            "application/vnd.google.colaboratory.intrinsic+json": {
              "type": "dataframe",
              "variable_name": "data",
              "summary": "{\n  \"name\": \"data\",\n  \"rows\": 200,\n  \"fields\": [\n    {\n      \"column\": \"Age\",\n      \"properties\": {\n        \"dtype\": \"number\",\n        \"std\": 16,\n        \"min\": 15,\n        \"max\": 74,\n        \"num_unique_values\": 57,\n        \"samples\": [\n          23,\n          49,\n          37\n        ],\n        \"semantic_type\": \"\",\n        \"description\": \"\"\n      }\n    },\n    {\n      \"column\": \"Sex\",\n      \"properties\": {\n        \"dtype\": \"number\",\n        \"std\": 0,\n        \"min\": 0,\n        \"max\": 1,\n        \"num_unique_values\": 2,\n        \"samples\": [\n          1,\n          0\n        ],\n        \"semantic_type\": \"\",\n        \"description\": \"\"\n      }\n    },\n    {\n      \"column\": \"BP\",\n      \"properties\": {\n        \"dtype\": \"number\",\n        \"std\": 0,\n        \"min\": 0,\n        \"max\": 2,\n        \"num_unique_values\": 3,\n        \"samples\": [\n          0,\n          1\n        ],\n        \"semantic_type\": \"\",\n        \"description\": \"\"\n      }\n    },\n    {\n      \"column\": \"Cholesterol\",\n      \"properties\": {\n        \"dtype\": \"number\",\n        \"std\": 0,\n        \"min\": 0,\n        \"max\": 1,\n        \"num_unique_values\": 2,\n        \"samples\": [\n          1,\n          0\n        ],\n        \"semantic_type\": \"\",\n        \"description\": \"\"\n      }\n    },\n    {\n      \"column\": \"Na_to_K\",\n      \"properties\": {\n        \"dtype\": \"number\",\n        \"std\": 7.223955528459516,\n        \"min\": 6.269,\n        \"max\": 38.247,\n        \"num_unique_values\": 198,\n        \"samples\": [\n          27.05,\n          9.281\n        ],\n        \"semantic_type\": \"\",\n        \"description\": \"\"\n      }\n    },\n    {\n      \"column\": \"Drug\",\n      \"properties\": {\n        \"dtype\": \"number\",\n        \"std\": 1,\n        \"min\": 0,\n        \"max\": 4,\n        \"num_unique_values\": 5,\n        \"samples\": [\n          3,\n          2\n        ],\n        \"semantic_type\": \"\",\n        \"description\": \"\"\n      }\n    }\n  ]\n}"
            }
          },
          "metadata": {},
          "execution_count": 20
        }
      ]
    },
    {
      "cell_type": "markdown",
      "source": [
        "## Multi - Variate Analysis"
      ],
      "metadata": {
        "id": "kwzqqDa2MRdu"
      }
    },
    {
      "cell_type": "code",
      "source": [
        "data.corr()"
      ],
      "metadata": {
        "colab": {
          "base_uri": "https://localhost:8080/",
          "height": 237
        },
        "id": "uK0hCCyMMT2y",
        "outputId": "5f614410-64c1-47bf-c1b6-08d7366565ac"
      },
      "execution_count": 21,
      "outputs": [
        {
          "output_type": "execute_result",
          "data": {
            "text/plain": [
              "                  Age       Sex        BP  Cholesterol   Na_to_K      Drug\n",
              "Age          1.000000  0.102027  0.054212    -0.068234 -0.063119  0.041856\n",
              "Sex          0.102027  1.000000 -0.007814    -0.008811 -0.125008  0.018239\n",
              "BP           0.054212 -0.007814  1.000000    -0.137552 -0.149312  0.419397\n",
              "Cholesterol -0.068234 -0.008811 -0.137552     1.000000  0.010000  0.048415\n",
              "Na_to_K     -0.063119 -0.125008 -0.149312     0.010000  1.000000 -0.689051\n",
              "Drug         0.041856  0.018239  0.419397     0.048415 -0.689051  1.000000"
            ],
            "text/html": [
              "\n",
              "  <div id=\"df-899d0aa0-f01c-43a6-a6bd-4d3de51d0d2a\" class=\"colab-df-container\">\n",
              "    <div>\n",
              "<style scoped>\n",
              "    .dataframe tbody tr th:only-of-type {\n",
              "        vertical-align: middle;\n",
              "    }\n",
              "\n",
              "    .dataframe tbody tr th {\n",
              "        vertical-align: top;\n",
              "    }\n",
              "\n",
              "    .dataframe thead th {\n",
              "        text-align: right;\n",
              "    }\n",
              "</style>\n",
              "<table border=\"1\" class=\"dataframe\">\n",
              "  <thead>\n",
              "    <tr style=\"text-align: right;\">\n",
              "      <th></th>\n",
              "      <th>Age</th>\n",
              "      <th>Sex</th>\n",
              "      <th>BP</th>\n",
              "      <th>Cholesterol</th>\n",
              "      <th>Na_to_K</th>\n",
              "      <th>Drug</th>\n",
              "    </tr>\n",
              "  </thead>\n",
              "  <tbody>\n",
              "    <tr>\n",
              "      <th>Age</th>\n",
              "      <td>1.000000</td>\n",
              "      <td>0.102027</td>\n",
              "      <td>0.054212</td>\n",
              "      <td>-0.068234</td>\n",
              "      <td>-0.063119</td>\n",
              "      <td>0.041856</td>\n",
              "    </tr>\n",
              "    <tr>\n",
              "      <th>Sex</th>\n",
              "      <td>0.102027</td>\n",
              "      <td>1.000000</td>\n",
              "      <td>-0.007814</td>\n",
              "      <td>-0.008811</td>\n",
              "      <td>-0.125008</td>\n",
              "      <td>0.018239</td>\n",
              "    </tr>\n",
              "    <tr>\n",
              "      <th>BP</th>\n",
              "      <td>0.054212</td>\n",
              "      <td>-0.007814</td>\n",
              "      <td>1.000000</td>\n",
              "      <td>-0.137552</td>\n",
              "      <td>-0.149312</td>\n",
              "      <td>0.419397</td>\n",
              "    </tr>\n",
              "    <tr>\n",
              "      <th>Cholesterol</th>\n",
              "      <td>-0.068234</td>\n",
              "      <td>-0.008811</td>\n",
              "      <td>-0.137552</td>\n",
              "      <td>1.000000</td>\n",
              "      <td>0.010000</td>\n",
              "      <td>0.048415</td>\n",
              "    </tr>\n",
              "    <tr>\n",
              "      <th>Na_to_K</th>\n",
              "      <td>-0.063119</td>\n",
              "      <td>-0.125008</td>\n",
              "      <td>-0.149312</td>\n",
              "      <td>0.010000</td>\n",
              "      <td>1.000000</td>\n",
              "      <td>-0.689051</td>\n",
              "    </tr>\n",
              "    <tr>\n",
              "      <th>Drug</th>\n",
              "      <td>0.041856</td>\n",
              "      <td>0.018239</td>\n",
              "      <td>0.419397</td>\n",
              "      <td>0.048415</td>\n",
              "      <td>-0.689051</td>\n",
              "      <td>1.000000</td>\n",
              "    </tr>\n",
              "  </tbody>\n",
              "</table>\n",
              "</div>\n",
              "    <div class=\"colab-df-buttons\">\n",
              "\n",
              "  <div class=\"colab-df-container\">\n",
              "    <button class=\"colab-df-convert\" onclick=\"convertToInteractive('df-899d0aa0-f01c-43a6-a6bd-4d3de51d0d2a')\"\n",
              "            title=\"Convert this dataframe to an interactive table.\"\n",
              "            style=\"display:none;\">\n",
              "\n",
              "  <svg xmlns=\"http://www.w3.org/2000/svg\" height=\"24px\" viewBox=\"0 -960 960 960\">\n",
              "    <path d=\"M120-120v-720h720v720H120Zm60-500h600v-160H180v160Zm220 220h160v-160H400v160Zm0 220h160v-160H400v160ZM180-400h160v-160H180v160Zm440 0h160v-160H620v160ZM180-180h160v-160H180v160Zm440 0h160v-160H620v160Z\"/>\n",
              "  </svg>\n",
              "    </button>\n",
              "\n",
              "  <style>\n",
              "    .colab-df-container {\n",
              "      display:flex;\n",
              "      gap: 12px;\n",
              "    }\n",
              "\n",
              "    .colab-df-convert {\n",
              "      background-color: #E8F0FE;\n",
              "      border: none;\n",
              "      border-radius: 50%;\n",
              "      cursor: pointer;\n",
              "      display: none;\n",
              "      fill: #1967D2;\n",
              "      height: 32px;\n",
              "      padding: 0 0 0 0;\n",
              "      width: 32px;\n",
              "    }\n",
              "\n",
              "    .colab-df-convert:hover {\n",
              "      background-color: #E2EBFA;\n",
              "      box-shadow: 0px 1px 2px rgba(60, 64, 67, 0.3), 0px 1px 3px 1px rgba(60, 64, 67, 0.15);\n",
              "      fill: #174EA6;\n",
              "    }\n",
              "\n",
              "    .colab-df-buttons div {\n",
              "      margin-bottom: 4px;\n",
              "    }\n",
              "\n",
              "    [theme=dark] .colab-df-convert {\n",
              "      background-color: #3B4455;\n",
              "      fill: #D2E3FC;\n",
              "    }\n",
              "\n",
              "    [theme=dark] .colab-df-convert:hover {\n",
              "      background-color: #434B5C;\n",
              "      box-shadow: 0px 1px 3px 1px rgba(0, 0, 0, 0.15);\n",
              "      filter: drop-shadow(0px 1px 2px rgba(0, 0, 0, 0.3));\n",
              "      fill: #FFFFFF;\n",
              "    }\n",
              "  </style>\n",
              "\n",
              "    <script>\n",
              "      const buttonEl =\n",
              "        document.querySelector('#df-899d0aa0-f01c-43a6-a6bd-4d3de51d0d2a button.colab-df-convert');\n",
              "      buttonEl.style.display =\n",
              "        google.colab.kernel.accessAllowed ? 'block' : 'none';\n",
              "\n",
              "      async function convertToInteractive(key) {\n",
              "        const element = document.querySelector('#df-899d0aa0-f01c-43a6-a6bd-4d3de51d0d2a');\n",
              "        const dataTable =\n",
              "          await google.colab.kernel.invokeFunction('convertToInteractive',\n",
              "                                                    [key], {});\n",
              "        if (!dataTable) return;\n",
              "\n",
              "        const docLinkHtml = 'Like what you see? Visit the ' +\n",
              "          '<a target=\"_blank\" href=https://colab.research.google.com/notebooks/data_table.ipynb>data table notebook</a>'\n",
              "          + ' to learn more about interactive tables.';\n",
              "        element.innerHTML = '';\n",
              "        dataTable['output_type'] = 'display_data';\n",
              "        await google.colab.output.renderOutput(dataTable, element);\n",
              "        const docLink = document.createElement('div');\n",
              "        docLink.innerHTML = docLinkHtml;\n",
              "        element.appendChild(docLink);\n",
              "      }\n",
              "    </script>\n",
              "  </div>\n",
              "\n",
              "\n",
              "<div id=\"df-85ba4016-40f3-4615-bd48-2ad73d65a0aa\">\n",
              "  <button class=\"colab-df-quickchart\" onclick=\"quickchart('df-85ba4016-40f3-4615-bd48-2ad73d65a0aa')\"\n",
              "            title=\"Suggest charts\"\n",
              "            style=\"display:none;\">\n",
              "\n",
              "<svg xmlns=\"http://www.w3.org/2000/svg\" height=\"24px\"viewBox=\"0 0 24 24\"\n",
              "     width=\"24px\">\n",
              "    <g>\n",
              "        <path d=\"M19 3H5c-1.1 0-2 .9-2 2v14c0 1.1.9 2 2 2h14c1.1 0 2-.9 2-2V5c0-1.1-.9-2-2-2zM9 17H7v-7h2v7zm4 0h-2V7h2v10zm4 0h-2v-4h2v4z\"/>\n",
              "    </g>\n",
              "</svg>\n",
              "  </button>\n",
              "\n",
              "<style>\n",
              "  .colab-df-quickchart {\n",
              "      --bg-color: #E8F0FE;\n",
              "      --fill-color: #1967D2;\n",
              "      --hover-bg-color: #E2EBFA;\n",
              "      --hover-fill-color: #174EA6;\n",
              "      --disabled-fill-color: #AAA;\n",
              "      --disabled-bg-color: #DDD;\n",
              "  }\n",
              "\n",
              "  [theme=dark] .colab-df-quickchart {\n",
              "      --bg-color: #3B4455;\n",
              "      --fill-color: #D2E3FC;\n",
              "      --hover-bg-color: #434B5C;\n",
              "      --hover-fill-color: #FFFFFF;\n",
              "      --disabled-bg-color: #3B4455;\n",
              "      --disabled-fill-color: #666;\n",
              "  }\n",
              "\n",
              "  .colab-df-quickchart {\n",
              "    background-color: var(--bg-color);\n",
              "    border: none;\n",
              "    border-radius: 50%;\n",
              "    cursor: pointer;\n",
              "    display: none;\n",
              "    fill: var(--fill-color);\n",
              "    height: 32px;\n",
              "    padding: 0;\n",
              "    width: 32px;\n",
              "  }\n",
              "\n",
              "  .colab-df-quickchart:hover {\n",
              "    background-color: var(--hover-bg-color);\n",
              "    box-shadow: 0 1px 2px rgba(60, 64, 67, 0.3), 0 1px 3px 1px rgba(60, 64, 67, 0.15);\n",
              "    fill: var(--button-hover-fill-color);\n",
              "  }\n",
              "\n",
              "  .colab-df-quickchart-complete:disabled,\n",
              "  .colab-df-quickchart-complete:disabled:hover {\n",
              "    background-color: var(--disabled-bg-color);\n",
              "    fill: var(--disabled-fill-color);\n",
              "    box-shadow: none;\n",
              "  }\n",
              "\n",
              "  .colab-df-spinner {\n",
              "    border: 2px solid var(--fill-color);\n",
              "    border-color: transparent;\n",
              "    border-bottom-color: var(--fill-color);\n",
              "    animation:\n",
              "      spin 1s steps(1) infinite;\n",
              "  }\n",
              "\n",
              "  @keyframes spin {\n",
              "    0% {\n",
              "      border-color: transparent;\n",
              "      border-bottom-color: var(--fill-color);\n",
              "      border-left-color: var(--fill-color);\n",
              "    }\n",
              "    20% {\n",
              "      border-color: transparent;\n",
              "      border-left-color: var(--fill-color);\n",
              "      border-top-color: var(--fill-color);\n",
              "    }\n",
              "    30% {\n",
              "      border-color: transparent;\n",
              "      border-left-color: var(--fill-color);\n",
              "      border-top-color: var(--fill-color);\n",
              "      border-right-color: var(--fill-color);\n",
              "    }\n",
              "    40% {\n",
              "      border-color: transparent;\n",
              "      border-right-color: var(--fill-color);\n",
              "      border-top-color: var(--fill-color);\n",
              "    }\n",
              "    60% {\n",
              "      border-color: transparent;\n",
              "      border-right-color: var(--fill-color);\n",
              "    }\n",
              "    80% {\n",
              "      border-color: transparent;\n",
              "      border-right-color: var(--fill-color);\n",
              "      border-bottom-color: var(--fill-color);\n",
              "    }\n",
              "    90% {\n",
              "      border-color: transparent;\n",
              "      border-bottom-color: var(--fill-color);\n",
              "    }\n",
              "  }\n",
              "</style>\n",
              "\n",
              "  <script>\n",
              "    async function quickchart(key) {\n",
              "      const quickchartButtonEl =\n",
              "        document.querySelector('#' + key + ' button');\n",
              "      quickchartButtonEl.disabled = true;  // To prevent multiple clicks.\n",
              "      quickchartButtonEl.classList.add('colab-df-spinner');\n",
              "      try {\n",
              "        const charts = await google.colab.kernel.invokeFunction(\n",
              "            'suggestCharts', [key], {});\n",
              "      } catch (error) {\n",
              "        console.error('Error during call to suggestCharts:', error);\n",
              "      }\n",
              "      quickchartButtonEl.classList.remove('colab-df-spinner');\n",
              "      quickchartButtonEl.classList.add('colab-df-quickchart-complete');\n",
              "    }\n",
              "    (() => {\n",
              "      let quickchartButtonEl =\n",
              "        document.querySelector('#df-85ba4016-40f3-4615-bd48-2ad73d65a0aa button');\n",
              "      quickchartButtonEl.style.display =\n",
              "        google.colab.kernel.accessAllowed ? 'block' : 'none';\n",
              "    })();\n",
              "  </script>\n",
              "</div>\n",
              "\n",
              "    </div>\n",
              "  </div>\n"
            ],
            "application/vnd.google.colaboratory.intrinsic+json": {
              "type": "dataframe",
              "summary": "{\n  \"name\": \"data\",\n  \"rows\": 6,\n  \"fields\": [\n    {\n      \"column\": \"Age\",\n      \"properties\": {\n        \"dtype\": \"number\",\n        \"std\": 0.40843206185453956,\n        \"min\": -0.0682338681067544,\n        \"max\": 1.0,\n        \"num_unique_values\": 6,\n        \"samples\": [\n          1.0,\n          0.10202736073161901,\n          0.04185644267498222\n        ],\n        \"semantic_type\": \"\",\n        \"description\": \"\"\n      }\n    },\n    {\n      \"column\": \"Sex\",\n      \"properties\": {\n        \"dtype\": \"number\",\n        \"std\": 0.41638629959494766,\n        \"min\": -0.1250084928952626,\n        \"max\": 1.0,\n        \"num_unique_values\": 6,\n        \"samples\": [\n          0.10202736073161901,\n          1.0,\n          0.018238799569573645\n        ],\n        \"semantic_type\": \"\",\n        \"description\": \"\"\n      }\n    },\n    {\n      \"column\": \"BP\",\n      \"properties\": {\n        \"dtype\": \"number\",\n        \"std\": 0.4446260388156854,\n        \"min\": -0.14931154656201656,\n        \"max\": 1.0,\n        \"num_unique_values\": 6,\n        \"samples\": [\n          0.05421240256764045,\n          -0.007814035272040007,\n          0.4193966782932493\n        ],\n        \"semantic_type\": \"\",\n        \"description\": \"\"\n      }\n    },\n    {\n      \"column\": \"Cholesterol\",\n      \"properties\": {\n        \"dtype\": \"number\",\n        \"std\": 0.4260108997442117,\n        \"min\": -0.13755206544220075,\n        \"max\": 1.0,\n        \"num_unique_values\": 6,\n        \"samples\": [\n          -0.0682338681067544,\n          -0.008811014308235337,\n          0.04841522742227574\n        ],\n        \"semantic_type\": \"\",\n        \"description\": \"\"\n      }\n    },\n    {\n      \"column\": \"Na_to_K\",\n      \"properties\": {\n        \"dtype\": \"number\",\n        \"std\": 0.550772430615211,\n        \"min\": -0.689051182360462,\n        \"max\": 1.0,\n        \"num_unique_values\": 6,\n        \"samples\": [\n          -0.06311949726772587,\n          -0.1250084928952626,\n          -0.689051182360462\n        ],\n        \"semantic_type\": \"\",\n        \"description\": \"\"\n      }\n    },\n    {\n      \"column\": \"Drug\",\n      \"properties\": {\n        \"dtype\": \"number\",\n        \"std\": 0.5545870296033938,\n        \"min\": -0.689051182360462,\n        \"max\": 1.0,\n        \"num_unique_values\": 6,\n        \"samples\": [\n          0.04185644267498222,\n          0.018238799569573645,\n          1.0\n        ],\n        \"semantic_type\": \"\",\n        \"description\": \"\"\n      }\n    }\n  ]\n}"
            }
          },
          "metadata": {},
          "execution_count": 21
        }
      ]
    },
    {
      "cell_type": "markdown",
      "source": [
        "## X & Y (Independent & Dependent Variables)"
      ],
      "metadata": {
        "id": "JwyHf1woNLCm"
      }
    },
    {
      "cell_type": "code",
      "source": [
        "# Split features and target variable\n",
        "x = data.drop(columns=['Drug'])\n",
        "y = data['Drug']"
      ],
      "metadata": {
        "id": "WiOnDVyUNO1-"
      },
      "execution_count": 23,
      "outputs": []
    },
    {
      "cell_type": "code",
      "source": [
        "x.head()"
      ],
      "metadata": {
        "colab": {
          "base_uri": "https://localhost:8080/",
          "height": 206
        },
        "id": "CyUVCTHONSWY",
        "outputId": "466c6a1e-29f6-479e-c223-0cf8b8c5202f"
      },
      "execution_count": 24,
      "outputs": [
        {
          "output_type": "execute_result",
          "data": {
            "text/plain": [
              "   Age  Sex  BP  Cholesterol  Na_to_K\n",
              "0   23    0   0            0   25.355\n",
              "1   47    1   1            0   13.093\n",
              "2   47    1   1            0   10.114\n",
              "3   28    0   2            0    7.798\n",
              "4   61    0   1            0   18.043"
            ],
            "text/html": [
              "\n",
              "  <div id=\"df-9c67ab7f-a2a8-403c-99de-9a26ffb3ae18\" class=\"colab-df-container\">\n",
              "    <div>\n",
              "<style scoped>\n",
              "    .dataframe tbody tr th:only-of-type {\n",
              "        vertical-align: middle;\n",
              "    }\n",
              "\n",
              "    .dataframe tbody tr th {\n",
              "        vertical-align: top;\n",
              "    }\n",
              "\n",
              "    .dataframe thead th {\n",
              "        text-align: right;\n",
              "    }\n",
              "</style>\n",
              "<table border=\"1\" class=\"dataframe\">\n",
              "  <thead>\n",
              "    <tr style=\"text-align: right;\">\n",
              "      <th></th>\n",
              "      <th>Age</th>\n",
              "      <th>Sex</th>\n",
              "      <th>BP</th>\n",
              "      <th>Cholesterol</th>\n",
              "      <th>Na_to_K</th>\n",
              "    </tr>\n",
              "  </thead>\n",
              "  <tbody>\n",
              "    <tr>\n",
              "      <th>0</th>\n",
              "      <td>23</td>\n",
              "      <td>0</td>\n",
              "      <td>0</td>\n",
              "      <td>0</td>\n",
              "      <td>25.355</td>\n",
              "    </tr>\n",
              "    <tr>\n",
              "      <th>1</th>\n",
              "      <td>47</td>\n",
              "      <td>1</td>\n",
              "      <td>1</td>\n",
              "      <td>0</td>\n",
              "      <td>13.093</td>\n",
              "    </tr>\n",
              "    <tr>\n",
              "      <th>2</th>\n",
              "      <td>47</td>\n",
              "      <td>1</td>\n",
              "      <td>1</td>\n",
              "      <td>0</td>\n",
              "      <td>10.114</td>\n",
              "    </tr>\n",
              "    <tr>\n",
              "      <th>3</th>\n",
              "      <td>28</td>\n",
              "      <td>0</td>\n",
              "      <td>2</td>\n",
              "      <td>0</td>\n",
              "      <td>7.798</td>\n",
              "    </tr>\n",
              "    <tr>\n",
              "      <th>4</th>\n",
              "      <td>61</td>\n",
              "      <td>0</td>\n",
              "      <td>1</td>\n",
              "      <td>0</td>\n",
              "      <td>18.043</td>\n",
              "    </tr>\n",
              "  </tbody>\n",
              "</table>\n",
              "</div>\n",
              "    <div class=\"colab-df-buttons\">\n",
              "\n",
              "  <div class=\"colab-df-container\">\n",
              "    <button class=\"colab-df-convert\" onclick=\"convertToInteractive('df-9c67ab7f-a2a8-403c-99de-9a26ffb3ae18')\"\n",
              "            title=\"Convert this dataframe to an interactive table.\"\n",
              "            style=\"display:none;\">\n",
              "\n",
              "  <svg xmlns=\"http://www.w3.org/2000/svg\" height=\"24px\" viewBox=\"0 -960 960 960\">\n",
              "    <path d=\"M120-120v-720h720v720H120Zm60-500h600v-160H180v160Zm220 220h160v-160H400v160Zm0 220h160v-160H400v160ZM180-400h160v-160H180v160Zm440 0h160v-160H620v160ZM180-180h160v-160H180v160Zm440 0h160v-160H620v160Z\"/>\n",
              "  </svg>\n",
              "    </button>\n",
              "\n",
              "  <style>\n",
              "    .colab-df-container {\n",
              "      display:flex;\n",
              "      gap: 12px;\n",
              "    }\n",
              "\n",
              "    .colab-df-convert {\n",
              "      background-color: #E8F0FE;\n",
              "      border: none;\n",
              "      border-radius: 50%;\n",
              "      cursor: pointer;\n",
              "      display: none;\n",
              "      fill: #1967D2;\n",
              "      height: 32px;\n",
              "      padding: 0 0 0 0;\n",
              "      width: 32px;\n",
              "    }\n",
              "\n",
              "    .colab-df-convert:hover {\n",
              "      background-color: #E2EBFA;\n",
              "      box-shadow: 0px 1px 2px rgba(60, 64, 67, 0.3), 0px 1px 3px 1px rgba(60, 64, 67, 0.15);\n",
              "      fill: #174EA6;\n",
              "    }\n",
              "\n",
              "    .colab-df-buttons div {\n",
              "      margin-bottom: 4px;\n",
              "    }\n",
              "\n",
              "    [theme=dark] .colab-df-convert {\n",
              "      background-color: #3B4455;\n",
              "      fill: #D2E3FC;\n",
              "    }\n",
              "\n",
              "    [theme=dark] .colab-df-convert:hover {\n",
              "      background-color: #434B5C;\n",
              "      box-shadow: 0px 1px 3px 1px rgba(0, 0, 0, 0.15);\n",
              "      filter: drop-shadow(0px 1px 2px rgba(0, 0, 0, 0.3));\n",
              "      fill: #FFFFFF;\n",
              "    }\n",
              "  </style>\n",
              "\n",
              "    <script>\n",
              "      const buttonEl =\n",
              "        document.querySelector('#df-9c67ab7f-a2a8-403c-99de-9a26ffb3ae18 button.colab-df-convert');\n",
              "      buttonEl.style.display =\n",
              "        google.colab.kernel.accessAllowed ? 'block' : 'none';\n",
              "\n",
              "      async function convertToInteractive(key) {\n",
              "        const element = document.querySelector('#df-9c67ab7f-a2a8-403c-99de-9a26ffb3ae18');\n",
              "        const dataTable =\n",
              "          await google.colab.kernel.invokeFunction('convertToInteractive',\n",
              "                                                    [key], {});\n",
              "        if (!dataTable) return;\n",
              "\n",
              "        const docLinkHtml = 'Like what you see? Visit the ' +\n",
              "          '<a target=\"_blank\" href=https://colab.research.google.com/notebooks/data_table.ipynb>data table notebook</a>'\n",
              "          + ' to learn more about interactive tables.';\n",
              "        element.innerHTML = '';\n",
              "        dataTable['output_type'] = 'display_data';\n",
              "        await google.colab.output.renderOutput(dataTable, element);\n",
              "        const docLink = document.createElement('div');\n",
              "        docLink.innerHTML = docLinkHtml;\n",
              "        element.appendChild(docLink);\n",
              "      }\n",
              "    </script>\n",
              "  </div>\n",
              "\n",
              "\n",
              "<div id=\"df-14d127d5-97ec-4e09-82ae-9f2356edd5ce\">\n",
              "  <button class=\"colab-df-quickchart\" onclick=\"quickchart('df-14d127d5-97ec-4e09-82ae-9f2356edd5ce')\"\n",
              "            title=\"Suggest charts\"\n",
              "            style=\"display:none;\">\n",
              "\n",
              "<svg xmlns=\"http://www.w3.org/2000/svg\" height=\"24px\"viewBox=\"0 0 24 24\"\n",
              "     width=\"24px\">\n",
              "    <g>\n",
              "        <path d=\"M19 3H5c-1.1 0-2 .9-2 2v14c0 1.1.9 2 2 2h14c1.1 0 2-.9 2-2V5c0-1.1-.9-2-2-2zM9 17H7v-7h2v7zm4 0h-2V7h2v10zm4 0h-2v-4h2v4z\"/>\n",
              "    </g>\n",
              "</svg>\n",
              "  </button>\n",
              "\n",
              "<style>\n",
              "  .colab-df-quickchart {\n",
              "      --bg-color: #E8F0FE;\n",
              "      --fill-color: #1967D2;\n",
              "      --hover-bg-color: #E2EBFA;\n",
              "      --hover-fill-color: #174EA6;\n",
              "      --disabled-fill-color: #AAA;\n",
              "      --disabled-bg-color: #DDD;\n",
              "  }\n",
              "\n",
              "  [theme=dark] .colab-df-quickchart {\n",
              "      --bg-color: #3B4455;\n",
              "      --fill-color: #D2E3FC;\n",
              "      --hover-bg-color: #434B5C;\n",
              "      --hover-fill-color: #FFFFFF;\n",
              "      --disabled-bg-color: #3B4455;\n",
              "      --disabled-fill-color: #666;\n",
              "  }\n",
              "\n",
              "  .colab-df-quickchart {\n",
              "    background-color: var(--bg-color);\n",
              "    border: none;\n",
              "    border-radius: 50%;\n",
              "    cursor: pointer;\n",
              "    display: none;\n",
              "    fill: var(--fill-color);\n",
              "    height: 32px;\n",
              "    padding: 0;\n",
              "    width: 32px;\n",
              "  }\n",
              "\n",
              "  .colab-df-quickchart:hover {\n",
              "    background-color: var(--hover-bg-color);\n",
              "    box-shadow: 0 1px 2px rgba(60, 64, 67, 0.3), 0 1px 3px 1px rgba(60, 64, 67, 0.15);\n",
              "    fill: var(--button-hover-fill-color);\n",
              "  }\n",
              "\n",
              "  .colab-df-quickchart-complete:disabled,\n",
              "  .colab-df-quickchart-complete:disabled:hover {\n",
              "    background-color: var(--disabled-bg-color);\n",
              "    fill: var(--disabled-fill-color);\n",
              "    box-shadow: none;\n",
              "  }\n",
              "\n",
              "  .colab-df-spinner {\n",
              "    border: 2px solid var(--fill-color);\n",
              "    border-color: transparent;\n",
              "    border-bottom-color: var(--fill-color);\n",
              "    animation:\n",
              "      spin 1s steps(1) infinite;\n",
              "  }\n",
              "\n",
              "  @keyframes spin {\n",
              "    0% {\n",
              "      border-color: transparent;\n",
              "      border-bottom-color: var(--fill-color);\n",
              "      border-left-color: var(--fill-color);\n",
              "    }\n",
              "    20% {\n",
              "      border-color: transparent;\n",
              "      border-left-color: var(--fill-color);\n",
              "      border-top-color: var(--fill-color);\n",
              "    }\n",
              "    30% {\n",
              "      border-color: transparent;\n",
              "      border-left-color: var(--fill-color);\n",
              "      border-top-color: var(--fill-color);\n",
              "      border-right-color: var(--fill-color);\n",
              "    }\n",
              "    40% {\n",
              "      border-color: transparent;\n",
              "      border-right-color: var(--fill-color);\n",
              "      border-top-color: var(--fill-color);\n",
              "    }\n",
              "    60% {\n",
              "      border-color: transparent;\n",
              "      border-right-color: var(--fill-color);\n",
              "    }\n",
              "    80% {\n",
              "      border-color: transparent;\n",
              "      border-right-color: var(--fill-color);\n",
              "      border-bottom-color: var(--fill-color);\n",
              "    }\n",
              "    90% {\n",
              "      border-color: transparent;\n",
              "      border-bottom-color: var(--fill-color);\n",
              "    }\n",
              "  }\n",
              "</style>\n",
              "\n",
              "  <script>\n",
              "    async function quickchart(key) {\n",
              "      const quickchartButtonEl =\n",
              "        document.querySelector('#' + key + ' button');\n",
              "      quickchartButtonEl.disabled = true;  // To prevent multiple clicks.\n",
              "      quickchartButtonEl.classList.add('colab-df-spinner');\n",
              "      try {\n",
              "        const charts = await google.colab.kernel.invokeFunction(\n",
              "            'suggestCharts', [key], {});\n",
              "      } catch (error) {\n",
              "        console.error('Error during call to suggestCharts:', error);\n",
              "      }\n",
              "      quickchartButtonEl.classList.remove('colab-df-spinner');\n",
              "      quickchartButtonEl.classList.add('colab-df-quickchart-complete');\n",
              "    }\n",
              "    (() => {\n",
              "      let quickchartButtonEl =\n",
              "        document.querySelector('#df-14d127d5-97ec-4e09-82ae-9f2356edd5ce button');\n",
              "      quickchartButtonEl.style.display =\n",
              "        google.colab.kernel.accessAllowed ? 'block' : 'none';\n",
              "    })();\n",
              "  </script>\n",
              "</div>\n",
              "\n",
              "    </div>\n",
              "  </div>\n"
            ],
            "application/vnd.google.colaboratory.intrinsic+json": {
              "type": "dataframe",
              "variable_name": "x",
              "summary": "{\n  \"name\": \"x\",\n  \"rows\": 200,\n  \"fields\": [\n    {\n      \"column\": \"Age\",\n      \"properties\": {\n        \"dtype\": \"number\",\n        \"std\": 16,\n        \"min\": 15,\n        \"max\": 74,\n        \"num_unique_values\": 57,\n        \"samples\": [\n          23,\n          49,\n          37\n        ],\n        \"semantic_type\": \"\",\n        \"description\": \"\"\n      }\n    },\n    {\n      \"column\": \"Sex\",\n      \"properties\": {\n        \"dtype\": \"number\",\n        \"std\": 0,\n        \"min\": 0,\n        \"max\": 1,\n        \"num_unique_values\": 2,\n        \"samples\": [\n          1,\n          0\n        ],\n        \"semantic_type\": \"\",\n        \"description\": \"\"\n      }\n    },\n    {\n      \"column\": \"BP\",\n      \"properties\": {\n        \"dtype\": \"number\",\n        \"std\": 0,\n        \"min\": 0,\n        \"max\": 2,\n        \"num_unique_values\": 3,\n        \"samples\": [\n          0,\n          1\n        ],\n        \"semantic_type\": \"\",\n        \"description\": \"\"\n      }\n    },\n    {\n      \"column\": \"Cholesterol\",\n      \"properties\": {\n        \"dtype\": \"number\",\n        \"std\": 0,\n        \"min\": 0,\n        \"max\": 1,\n        \"num_unique_values\": 2,\n        \"samples\": [\n          1,\n          0\n        ],\n        \"semantic_type\": \"\",\n        \"description\": \"\"\n      }\n    },\n    {\n      \"column\": \"Na_to_K\",\n      \"properties\": {\n        \"dtype\": \"number\",\n        \"std\": 7.223955528459516,\n        \"min\": 6.269,\n        \"max\": 38.247,\n        \"num_unique_values\": 198,\n        \"samples\": [\n          27.05,\n          9.281\n        ],\n        \"semantic_type\": \"\",\n        \"description\": \"\"\n      }\n    }\n  ]\n}"
            }
          },
          "metadata": {},
          "execution_count": 24
        }
      ]
    },
    {
      "cell_type": "code",
      "source": [
        "y"
      ],
      "metadata": {
        "colab": {
          "base_uri": "https://localhost:8080/"
        },
        "id": "PpfFeSAwNXJ2",
        "outputId": "244444a3-b850-4772-db81-2510c51d0ca2"
      },
      "execution_count": 25,
      "outputs": [
        {
          "output_type": "execute_result",
          "data": {
            "text/plain": [
              "0      0\n",
              "1      3\n",
              "2      3\n",
              "3      4\n",
              "4      0\n",
              "      ..\n",
              "195    3\n",
              "196    3\n",
              "197    4\n",
              "198    4\n",
              "199    4\n",
              "Name: Drug, Length: 200, dtype: int64"
            ]
          },
          "metadata": {},
          "execution_count": 25
        }
      ]
    },
    {
      "cell_type": "markdown",
      "source": [
        "## Scaling"
      ],
      "metadata": {
        "id": "EmcvjeNPNbBy"
      }
    },
    {
      "cell_type": "code",
      "source": [
        "# Standardize features\n",
        "scaler = StandardScaler()\n",
        "x = scaler.fit_transform(x)"
      ],
      "metadata": {
        "id": "HUvfGIDdNcQo"
      },
      "execution_count": 26,
      "outputs": []
    },
    {
      "cell_type": "code",
      "source": [
        "x"
      ],
      "metadata": {
        "colab": {
          "base_uri": "https://localhost:8080/"
        },
        "id": "1XXBKUUaNmNP",
        "outputId": "868ac6ce-d1ed-4855-e8c6-9d5f80e7c442"
      },
      "execution_count": 27,
      "outputs": [
        {
          "output_type": "execute_result",
          "data": {
            "text/plain": [
              "array([[-1.29159102, -1.040833  , -1.11016894, -0.97043679,  1.28652212],\n",
              "       [ 0.16269866,  0.96076892,  0.10979693, -0.97043679, -0.4151454 ],\n",
              "       [ 0.16269866,  0.96076892,  0.10979693, -0.97043679, -0.82855818],\n",
              "       [-0.988614  , -1.040833  ,  1.32976279, -0.97043679, -1.14996267],\n",
              "       [ 1.0110343 , -1.040833  ,  0.10979693, -0.97043679,  0.27179427],\n",
              "       [-1.35218642, -1.040833  ,  1.32976279, -0.97043679, -1.03769314],\n",
              "       [ 0.28388946, -1.040833  ,  1.32976279, -0.97043679,  0.02643885],\n",
              "       [-0.20087376,  0.96076892,  0.10979693, -0.97043679, -0.70046821],\n",
              "       [ 0.9504389 ,  0.96076892,  1.32976279, -0.97043679, -0.12676951],\n",
              "       [-0.07968296,  0.96076892,  0.10979693,  1.03046381,  0.45567206],\n",
              "       [ 0.16269866, -1.040833  ,  0.10979693, -0.97043679, -0.59916196],\n",
              "       [-0.62504158, -1.040833  , -1.11016894,  1.03046381,  0.43221897],\n",
              "       [-0.07968296,  0.96076892,  0.10979693, -0.97043679, -0.09832049],\n",
              "       [ 1.79877454, -1.040833  ,  0.10979693, -0.97043679,  0.674105  ],\n",
              "       [ 0.34448487, -1.040833  ,  1.32976279, -0.97043679, -0.46926791],\n",
              "       [-1.71575884, -1.040833  , -1.11016894,  1.03046381, -0.0788919 ],\n",
              "       [ 1.49579753,  0.96076892,  0.10979693,  1.03046381, -0.64245998],\n",
              "       [-0.07968296,  0.96076892, -1.11016894, -0.97043679, -0.29316156],\n",
              "       [-1.29159102,  0.96076892,  0.10979693, -0.97043679, -1.21935052],\n",
              "       [-0.74623239, -1.040833  , -1.11016894,  1.03046381,  1.37242427],\n",
              "       [ 0.76865269,  0.96076892,  0.10979693,  1.03046381,  0.42236589],\n",
              "       [ 1.13222511,  0.96076892,  1.32976279, -0.97043679,  1.36451406],\n",
              "       [ 0.16269866,  0.96076892,  0.10979693,  1.03046381,  2.00995979],\n",
              "       [ 0.22329406, -1.040833  ,  0.10979693, -0.97043679, -0.14550423],\n",
              "       [-0.68563699, -1.040833  ,  0.10979693, -0.97043679,  2.41490725],\n",
              "       [-0.988614  , -1.040833  , -1.11016894,  1.03046381,  0.37809645],\n",
              "       [-0.80682779,  0.96076892, -1.11016894, -0.97043679,  1.9819271 ],\n",
              "       [ 0.28388946, -1.040833  ,  1.32976279,  1.03046381, -0.93028076],\n",
              "       [-0.32206457, -1.040833  ,  0.10979693,  1.03046381,  0.91765633],\n",
              "       [ 0.04150785,  0.96076892,  0.10979693, -0.97043679,  0.25902691],\n",
              "       [-1.59456803, -1.040833  ,  1.32976279,  1.03046381, -1.01784822],\n",
              "       [ 1.79877454,  0.96076892, -1.11016894, -0.97043679, -0.90446848],\n",
              "       [ 0.28388946,  0.96076892,  0.10979693,  1.03046381, -0.70366006],\n",
              "       [ 1.25341591, -1.040833  , -1.11016894,  1.03046381,  2.19147839],\n",
              "       [ 0.52627108,  0.96076892,  1.32976279, -0.97043679, -0.27081868],\n",
              "       [ 0.10210325,  0.96076892,  1.32976279,  1.03046381, -1.2211546 ],\n",
              "       [-0.74623239,  0.96076892, -1.11016894,  1.03046381, -0.92139911],\n",
              "       [-0.32206457,  0.96076892,  0.10979693,  1.03046381, -0.29787994],\n",
              "       [-0.32206457, -1.040833  ,  1.32976279,  1.03046381, -0.88476233],\n",
              "       [-1.77635424,  0.96076892,  1.32976279, -0.97043679, -0.97149714],\n",
              "       [ 1.73817914, -1.040833  ,  1.32976279, -0.97043679,  0.43527203],\n",
              "       [ 0.82924809, -1.040833  , -1.11016894,  1.03046381, -0.25610845],\n",
              "       [ 0.34448487,  0.96076892,  1.32976279,  1.03046381, -0.04086736],\n",
              "       [-1.29159102,  0.96076892,  1.32976279, -0.97043679, -0.53074555],\n",
              "       [ 0.34448487, -1.040833  ,  1.32976279,  1.03046381, -0.5258884 ],\n",
              "       [ 1.31401132, -1.040833  ,  1.32976279,  1.03046381, -1.10708099],\n",
              "       [-0.44325537, -1.040833  , -1.11016894, -0.97043679, -0.41542295],\n",
              "       [ 1.43520212,  0.96076892,  0.10979693, -0.97043679, -0.80399488],\n",
              "       [-1.29159102,  0.96076892,  1.32976279, -0.97043679,  2.16511101],\n",
              "       [-0.988614  , -1.040833  ,  0.10979693, -0.97043679,  0.51506806],\n",
              "       [ 0.82924809, -1.040833  , -1.11016894, -0.97043679,  0.46233329],\n",
              "       [ 1.37460672,  0.96076892,  1.32976279,  1.03046381, -0.71975804],\n",
              "       [ 1.0716297 ,  0.96076892,  0.10979693,  1.03046381,  1.54020408],\n",
              "       [-1.23099561, -1.040833  , -1.11016894,  1.03046381,  0.32924741],\n",
              "       [ 1.43520212, -1.040833  , -1.11016894,  1.03046381, -0.81815   ],\n",
              "       [-1.10980481, -1.040833  ,  0.10979693, -0.97043679, -0.26707173],\n",
              "       [ 1.25341591,  0.96076892, -1.11016894,  1.03046381, -0.65841918],\n",
              "       [-0.26146916,  0.96076892, -1.11016894, -0.97043679,  1.62943685],\n",
              "       [ 0.9504389 ,  0.96076892,  1.32976279,  1.03046381, -0.83175002],\n",
              "       [-0.62504158,  0.96076892, -1.11016894, -0.97043679,  0.36338623],\n",
              "       [-0.38265997, -1.040833  ,  0.10979693,  1.03046381,  1.91378824],\n",
              "       [-1.23099561,  0.96076892, -1.11016894,  1.03046381, -0.91723584],\n",
              "       [ 1.37460672,  0.96076892,  0.10979693,  1.03046381,  0.63954985],\n",
              "       [ 0.04150785,  0.96076892,  0.10979693,  1.03046381, -1.07058298],\n",
              "       [ 0.9504389 , -1.040833  , -1.11016894, -0.97043679, -0.3860025 ],\n",
              "       [ 1.43520212, -1.040833  ,  1.32976279,  1.03046381,  1.52174691],\n",
              "       [-0.9280186 ,  0.96076892, -1.11016894, -0.97043679, -0.44803523],\n",
              "       [-1.65516344,  0.96076892,  1.32976279,  1.03046381, -0.72891723],\n",
              "       [ 0.58686648,  0.96076892,  1.32976279, -0.97043679,  1.18979546],\n",
              "       [-1.59456803, -1.040833  , -1.11016894,  1.03046381,  1.13678315],\n",
              "       [ 1.55639293,  0.96076892, -1.11016894, -0.97043679, -0.29385544],\n",
              "       [-0.988614  , -1.040833  ,  1.32976279, -0.97043679,  0.4982762 ],\n",
              "       [-1.23099561, -1.040833  ,  1.32976279, -0.97043679, -0.76041931],\n",
              "       [-0.20087376, -1.040833  ,  1.32976279,  1.03046381,  0.94652168],\n",
              "       [-0.80682779,  0.96076892, -1.11016894,  1.03046381,  0.13662675],\n",
              "       [-1.10980481,  0.96076892,  0.10979693,  1.03046381,  0.6695254 ],\n",
              "       [-0.50385078, -1.040833  , -1.11016894, -0.97043679, -0.67812533],\n",
              "       [-1.10980481, -1.040833  , -1.11016894,  1.03046381,  0.42694549],\n",
              "       [-1.53397263, -1.040833  , -1.11016894, -0.97043679, -0.38461474],\n",
              "       [-0.74623239, -1.040833  ,  0.10979693,  1.03046381, -0.72780703],\n",
              "       [ 0.9504389 ,  0.96076892, -1.11016894, -0.97043679, -0.29843504],\n",
              "       [ 1.19282051,  0.96076892,  1.32976279, -0.97043679, -1.15509738],\n",
              "       [-0.74623239, -1.040833  ,  0.10979693, -0.97043679, -0.884346  ],\n",
              "       [-0.38265997, -1.040833  , -1.11016894,  1.03046381, -0.66036204],\n",
              "       [ 0.16269866, -1.040833  ,  0.10979693, -0.97043679, -0.83508063],\n",
              "       [ 0.88984349,  0.96076892, -1.11016894, -0.97043679, -0.29829626],\n",
              "       [ 0.40508027, -1.040833  ,  1.32976279, -0.97043679, -0.34520245],\n",
              "       [ 1.49579753,  0.96076892,  0.10979693, -0.97043679, -0.08416537],\n",
              "       [-0.44325537, -1.040833  , -1.11016894,  1.03046381,  0.97233395],\n",
              "       [ 0.34448487, -1.040833  ,  1.32976279,  1.03046381,  0.1563329 ],\n",
              "       [ 1.0716297 ,  0.96076892,  1.32976279, -0.97043679,  0.0707083 ],\n",
              "       [-0.20087376,  0.96076892, -1.11016894,  1.03046381, -0.12885115],\n",
              "       [-0.9280186 , -1.040833  , -1.11016894, -0.97043679,  1.85480857],\n",
              "       [-0.14027836, -1.040833  ,  0.10979693,  1.03046381,  1.82996772],\n",
              "       [ 0.70805729,  0.96076892,  0.10979693, -0.97043679, -0.14841852],\n",
              "       [-0.50385078,  0.96076892,  0.10979693,  1.03046381, -0.64676202],\n",
              "       [ 0.82924809, -1.040833  ,  0.10979693, -0.97043679,  3.07561832],\n",
              "       [ 0.70805729, -1.040833  , -1.11016894, -0.97043679,  1.29207314],\n",
              "       [-1.47337723,  0.96076892, -1.11016894,  1.03046381,  2.71369132],\n",
              "       [-1.77635424, -1.040833  , -1.11016894,  1.03046381,  0.08888791],\n",
              "       [-0.80682779,  0.96076892, -1.11016894,  1.03046381, -0.58472929],\n",
              "       [ 0.04150785, -1.040833  , -1.11016894, -0.97043679, -0.44831279],\n",
              "       [-0.988614  , -1.040833  ,  0.10979693, -0.97043679, -0.41042702],\n",
              "       [ 0.70805729,  0.96076892,  1.32976279, -0.97043679, -0.98787267],\n",
              "       [-1.35218642,  0.96076892, -1.11016894,  1.03046381,  1.69438387],\n",
              "       [-0.44325537,  0.96076892,  0.10979693,  1.03046381, -0.98759512],\n",
              "       [-1.35218642,  0.96076892,  1.32976279, -0.97043679, -0.57334968],\n",
              "       [-0.14027836,  0.96076892,  0.10979693, -0.97043679,  0.54518238],\n",
              "       [ 1.67758373,  0.96076892, -1.11016894,  1.03046381, -0.88920315],\n",
              "       [-1.29159102,  0.96076892,  1.32976279, -0.97043679,  0.10623487],\n",
              "       [ 0.34448487,  0.96076892, -1.11016894, -0.97043679, -1.19270559],\n",
              "       [ 0.16269866, -1.040833  ,  1.32976279,  1.03046381, -1.30469757],\n",
              "       [-0.56444618,  0.96076892,  0.10979693,  1.03046381, -0.95956243],\n",
              "       [ 1.25341591, -1.040833  ,  0.10979693,  1.03046381, -0.32133303],\n",
              "       [-1.47337723, -1.040833  ,  1.32976279,  1.03046381, -0.94415833],\n",
              "       [ 0.40508027,  0.96076892, -1.11016894, -0.97043679,  0.30676574],\n",
              "       [ 1.37460672,  0.96076892,  1.32976279,  1.03046381, -0.91182359],\n",
              "       [-0.26146916, -1.040833  ,  1.32976279, -0.97043679, -0.83008471],\n",
              "       [-0.74623239, -1.040833  , -1.11016894,  1.03046381, -0.8038561 ],\n",
              "       [ 1.0110343 , -1.040833  , -1.11016894, -0.97043679,  1.3031752 ],\n",
              "       [-0.988614  ,  0.96076892,  1.32976279, -0.97043679,  1.52368977],\n",
              "       [-1.77635424,  0.96076892, -1.11016894,  1.03046381,  0.15563902],\n",
              "       [-0.62504158,  0.96076892,  1.32976279, -0.97043679,  0.88421139],\n",
              "       [-0.50385078, -1.040833  ,  1.32976279, -0.97043679,  0.09277363],\n",
              "       [ 0.52627108, -1.040833  , -1.11016894,  1.03046381, -0.49813326],\n",
              "       [-1.53397263, -1.040833  , -1.11016894,  1.03046381,  1.37173039],\n",
              "       [ 1.31401132,  0.96076892, -1.11016894, -0.97043679,  0.0364307 ],\n",
              "       [-0.56444618,  0.96076892,  1.32976279,  1.03046381, -1.14344022],\n",
              "       [ 0.16269866,  0.96076892,  0.10979693,  1.03046381,  2.42267869],\n",
              "       [-0.74623239, -1.040833  ,  1.32976279, -0.97043679, -1.19450967],\n",
              "       [ 1.55639293, -1.040833  ,  1.32976279, -0.97043679,  0.61123961],\n",
              "       [ 0.46567567,  0.96076892,  0.10979693,  1.03046381,  2.33663776],\n",
              "       [ 0.28388946,  0.96076892,  0.10979693,  1.03046381, -0.34506367],\n",
              "       [-1.23099561,  0.96076892,  1.32976279, -0.97043679,  1.34633444],\n",
              "       [-0.14027836, -1.040833  , -1.11016894, -0.97043679,  0.68714991],\n",
              "       [ 1.79877454,  0.96076892,  0.10979693,  1.03046381, -0.57529254],\n",
              "       [ 0.64746188, -1.040833  , -1.11016894, -0.97043679, -0.70879476],\n",
              "       [-0.56444618, -1.040833  , -1.11016894, -0.97043679, -0.44276176],\n",
              "       [ 0.40508027,  0.96076892, -1.11016894,  1.03046381, -0.65800285],\n",
              "       [ 1.49579753, -1.040833  ,  1.32976279, -0.97043679, -0.83535819],\n",
              "       [ 0.28388946,  0.96076892, -1.11016894,  1.03046381, -1.36215071],\n",
              "       [ 1.19282051, -1.040833  ,  0.10979693,  1.03046381,  1.34008953],\n",
              "       [ 0.9504389 ,  0.96076892, -1.11016894,  1.03046381, -1.03575028],\n",
              "       [ 1.79877454,  0.96076892, -1.11016894,  1.03046381, -0.08999395],\n",
              "       [-0.32206457,  0.96076892, -1.11016894, -0.97043679, -0.89100724],\n",
              "       [ 1.0110343 ,  0.96076892,  1.32976279, -0.97043679, -0.92167666],\n",
              "       [-0.44325537, -1.040833  ,  0.10979693,  1.03046381, -0.56599457],\n",
              "       [-1.10980481, -1.040833  , -1.11016894,  1.03046381, -0.52422309],\n",
              "       [ 1.0110343 , -1.040833  ,  0.10979693,  1.03046381, -1.21352194],\n",
              "       [-1.35218642,  0.96076892,  0.10979693, -0.97043679, -1.10097486],\n",
              "       [ 0.28388946,  0.96076892, -1.11016894,  1.03046381, -1.024787  ],\n",
              "       [ 1.43520212,  0.96076892, -1.11016894, -0.97043679, -0.70435393],\n",
              "       [ 0.64746188,  0.96076892,  1.32976279,  1.03046381, -1.22448522],\n",
              "       [ 1.67758373, -1.040833  ,  0.10979693,  1.03046381, -0.20018185],\n",
              "       [-0.44325537,  0.96076892,  0.10979693,  1.03046381,  0.08874914],\n",
              "       [ 0.28388946,  0.96076892,  0.10979693, -0.97043679, -0.76985606],\n",
              "       [-0.80682779,  0.96076892, -1.11016894,  1.03046381, -0.67410083],\n",
              "       [ 0.52627108,  0.96076892,  0.10979693, -0.97043679,  0.95457067],\n",
              "       [ 0.88984349, -1.040833  ,  0.10979693, -0.97043679, -0.7827622 ],\n",
              "       [-0.62504158, -1.040833  ,  0.10979693,  1.03046381, -0.43873726],\n",
              "       [-0.8674232 , -1.040833  ,  1.32976279, -0.97043679, -0.78290097],\n",
              "       [ 0.76865269, -1.040833  , -1.11016894,  1.03046381, -0.85201127],\n",
              "       [-0.07968296,  0.96076892,  1.32976279,  1.03046381, -0.44761891],\n",
              "       [-1.41278182, -1.040833  , -1.11016894,  1.03046381,  1.74129005],\n",
              "       [-1.71575884,  0.96076892, -1.11016894,  1.03046381,  0.40557404],\n",
              "       [-0.38265997,  0.96076892,  0.10979693, -0.97043679,  0.30676574],\n",
              "       [ 0.82924809, -1.040833  ,  0.10979693, -0.97043679,  1.46554276],\n",
              "       [ 0.76865269, -1.040833  ,  1.32976279, -0.97043679, -0.2593003 ],\n",
              "       [ 0.40508027, -1.040833  ,  0.10979693,  1.03046381,  0.96012169],\n",
              "       [-1.47337723, -1.040833  , -1.11016894, -0.97043679, -0.66924368],\n",
              "       [-0.988614  , -1.040833  ,  1.32976279, -0.97043679, -0.44484339],\n",
              "       [ 0.04150785,  0.96076892,  0.10979693,  1.03046381, -0.84201942],\n",
              "       [-0.32206457, -1.040833  ,  1.32976279,  1.03046381,  0.15827576],\n",
              "       [-0.20087376, -1.040833  ,  0.10979693,  1.03046381,  0.36838215],\n",
              "       [-0.14027836,  0.96076892, -1.11016894,  1.03046381, -0.46052505],\n",
              "       [ 1.73817914, -1.040833  , -1.11016894, -0.97043679,  0.31412086],\n",
              "       [ 0.22329406,  0.96076892, -1.11016894,  1.03046381, -0.78248465],\n",
              "       [-1.17040021,  0.96076892,  1.32976279, -0.97043679,  0.40612914],\n",
              "       [-0.32206457,  0.96076892,  1.32976279, -0.97043679, -0.01602651],\n",
              "       [ 1.37460672, -1.040833  ,  1.32976279, -0.97043679, -0.02685101],\n",
              "       [-1.35218642, -1.040833  , -1.11016894,  1.03046381,  0.93444819],\n",
              "       [ 0.88984349, -1.040833  ,  1.32976279, -0.97043679, -0.30537382],\n",
              "       [-1.47337723, -1.040833  ,  0.10979693,  1.03046381, -0.61040279],\n",
              "       [-0.50385078, -1.040833  , -1.11016894,  1.03046381, -0.08250007],\n",
              "       [-1.59456803, -1.040833  , -1.11016894, -0.97043679,  2.92865486],\n",
              "       [ 0.76865269, -1.040833  ,  1.32976279,  1.03046381,  1.36118344],\n",
              "       [ 1.55639293,  0.96076892, -1.11016894, -0.97043679, -0.86533373],\n",
              "       [ 0.16269866,  0.96076892, -1.11016894, -0.97043679, -0.788452  ],\n",
              "       [ 1.25341591,  0.96076892, -1.11016894,  1.03046381,  2.62459732],\n",
              "       [ 1.19282051,  0.96076892, -1.11016894,  1.03046381,  0.67271724],\n",
              "       [ 0.82924809,  0.96076892, -1.11016894, -0.97043679,  0.40335363],\n",
              "       [-1.29159102,  0.96076892, -1.11016894, -0.97043679, -1.12040345],\n",
              "       [ 1.67758373,  0.96076892,  0.10979693, -0.97043679,  0.031296  ],\n",
              "       [ 1.67758373,  0.96076892,  0.10979693, -0.97043679, -1.29276286],\n",
              "       [ 0.10210325, -1.040833  , -1.11016894, -0.97043679,  2.58143808],\n",
              "       [ 0.70805729, -1.040833  ,  0.10979693, -0.97043679, -0.6269171 ],\n",
              "       [-1.71575884,  0.96076892,  0.10979693, -0.97043679, -0.56599457],\n",
              "       [ 0.46567567,  0.96076892,  1.32976279, -0.97043679, -0.85908883],\n",
              "       [-1.29159102,  0.96076892,  1.32976279,  1.03046381, -0.28650033],\n",
              "       [-0.26146916, -1.040833  ,  0.10979693,  1.03046381, -0.6571702 ]])"
            ]
          },
          "metadata": {},
          "execution_count": 27
        }
      ]
    },
    {
      "cell_type": "markdown",
      "source": [
        "## Spliting the Train - Test Split"
      ],
      "metadata": {
        "id": "ARZGkcbENsNw"
      }
    },
    {
      "cell_type": "code",
      "source": [
        "# Split data into training and testing sets\n",
        "from sklearn.model_selection import train_test_split\n",
        "x_train, x_test, y_train, y_test = train_test_split(x, y, test_size=0.3, random_state=42)"
      ],
      "metadata": {
        "id": "sZOR1ExcNvle"
      },
      "execution_count": 47,
      "outputs": []
    },
    {
      "cell_type": "code",
      "source": [
        "print(x.shape, x_train.shape, y_train.shape)"
      ],
      "metadata": {
        "colab": {
          "base_uri": "https://localhost:8080/"
        },
        "id": "LDtyGfxAN77B",
        "outputId": "823eb2fa-73ed-49f3-ac31-7e7cc53b2858"
      },
      "execution_count": 48,
      "outputs": [
        {
          "output_type": "stream",
          "name": "stdout",
          "text": [
            "(200, 5) (140, 5) (140,)\n"
          ]
        }
      ]
    },
    {
      "cell_type": "code",
      "source": [
        "print(y.shape, x_test.shape, y_test.shape)"
      ],
      "metadata": {
        "colab": {
          "base_uri": "https://localhost:8080/"
        },
        "id": "1XdA22pbN__z",
        "outputId": "74fd297d-e43c-4d89-e93e-ead362e07e84"
      },
      "execution_count": 49,
      "outputs": [
        {
          "output_type": "stream",
          "name": "stdout",
          "text": [
            "(200,) (60, 5) (60,)\n"
          ]
        }
      ]
    },
    {
      "cell_type": "markdown",
      "source": [
        "## ANN Building"
      ],
      "metadata": {
        "id": "cw7RV1mAOUjM"
      }
    },
    {
      "cell_type": "code",
      "source": [
        "import tensorflow as tf\n",
        "from tensorflow.keras.models import Sequential\n",
        "from tensorflow.keras.layers import Dense\n",
        "\n",
        "# Initialize the model\n",
        "model = Sequential()"
      ],
      "metadata": {
        "id": "pkWMmQYDOWF-"
      },
      "execution_count": 50,
      "outputs": []
    },
    {
      "cell_type": "code",
      "source": [
        "# Add input layer\n",
        "model.add(Dense(units=5, activation='relu', input_dim=x_train.shape[1]))"
      ],
      "metadata": {
        "id": "ZlJHJY9gOXK3"
      },
      "execution_count": 51,
      "outputs": []
    },
    {
      "cell_type": "code",
      "source": [
        "# Add hidden layers\n",
        "model.add(Dense(units=8, activation='relu'))\n",
        "model.add(Dense(units=16, activation='relu'))\n",
        "model.add(Dense(units=32, activation='relu'))"
      ],
      "metadata": {
        "id": "5qHmowfHOZpn"
      },
      "execution_count": 52,
      "outputs": []
    },
    {
      "cell_type": "code",
      "source": [
        "# Add output layer\n",
        "model.add(Dense(units=len(data['Drug'].unique()), activation='softmax'))"
      ],
      "metadata": {
        "id": "qUXMzDhXOfDF"
      },
      "execution_count": 53,
      "outputs": []
    },
    {
      "cell_type": "code",
      "source": [
        "# Compile the model\n",
        "model.compile(optimizer='adam', loss='sparse_categorical_crossentropy', metrics=['accuracy'])"
      ],
      "metadata": {
        "id": "Hyq5fg2TOhEg"
      },
      "execution_count": 54,
      "outputs": []
    },
    {
      "cell_type": "code",
      "source": [
        "# Train the model\n",
        "model.fit(x_train, y_train, epochs=100, batch_size=32, validation_split=0.2)"
      ],
      "metadata": {
        "colab": {
          "base_uri": "https://localhost:8080/"
        },
        "id": "k8gEk-9NOjUX",
        "outputId": "4c3ecbb4-5825-428e-c398-56e6403ea3ac"
      },
      "execution_count": 55,
      "outputs": [
        {
          "output_type": "stream",
          "name": "stdout",
          "text": [
            "Epoch 1/100\n",
            "4/4 [==============================] - 1s 73ms/step - loss: 1.6340 - accuracy: 0.3214 - val_loss: 1.7216 - val_accuracy: 0.2500\n",
            "Epoch 2/100\n",
            "4/4 [==============================] - 0s 12ms/step - loss: 1.6033 - accuracy: 0.3571 - val_loss: 1.6818 - val_accuracy: 0.2857\n",
            "Epoch 3/100\n",
            "4/4 [==============================] - 0s 13ms/step - loss: 1.5763 - accuracy: 0.3929 - val_loss: 1.6477 - val_accuracy: 0.2857\n",
            "Epoch 4/100\n",
            "4/4 [==============================] - 0s 23ms/step - loss: 1.5546 - accuracy: 0.3839 - val_loss: 1.6138 - val_accuracy: 0.2857\n",
            "Epoch 5/100\n",
            "4/4 [==============================] - 0s 19ms/step - loss: 1.5298 - accuracy: 0.4554 - val_loss: 1.5816 - val_accuracy: 0.4286\n",
            "Epoch 6/100\n",
            "4/4 [==============================] - 0s 26ms/step - loss: 1.5086 - accuracy: 0.6161 - val_loss: 1.5510 - val_accuracy: 0.5357\n",
            "Epoch 7/100\n",
            "4/4 [==============================] - 0s 24ms/step - loss: 1.4869 - accuracy: 0.6339 - val_loss: 1.5206 - val_accuracy: 0.5357\n",
            "Epoch 8/100\n",
            "4/4 [==============================] - 0s 18ms/step - loss: 1.4653 - accuracy: 0.6071 - val_loss: 1.4901 - val_accuracy: 0.5357\n",
            "Epoch 9/100\n",
            "4/4 [==============================] - 0s 24ms/step - loss: 1.4435 - accuracy: 0.6071 - val_loss: 1.4609 - val_accuracy: 0.5357\n",
            "Epoch 10/100\n",
            "4/4 [==============================] - 0s 27ms/step - loss: 1.4205 - accuracy: 0.6161 - val_loss: 1.4332 - val_accuracy: 0.5000\n",
            "Epoch 11/100\n",
            "4/4 [==============================] - 0s 24ms/step - loss: 1.3992 - accuracy: 0.6161 - val_loss: 1.4046 - val_accuracy: 0.5000\n",
            "Epoch 12/100\n",
            "4/4 [==============================] - 0s 24ms/step - loss: 1.3769 - accuracy: 0.6161 - val_loss: 1.3752 - val_accuracy: 0.5000\n",
            "Epoch 13/100\n",
            "4/4 [==============================] - 0s 17ms/step - loss: 1.3501 - accuracy: 0.6161 - val_loss: 1.3476 - val_accuracy: 0.5000\n",
            "Epoch 14/100\n",
            "4/4 [==============================] - 0s 17ms/step - loss: 1.3276 - accuracy: 0.6161 - val_loss: 1.3205 - val_accuracy: 0.5000\n",
            "Epoch 15/100\n",
            "4/4 [==============================] - 0s 23ms/step - loss: 1.3010 - accuracy: 0.6339 - val_loss: 1.2942 - val_accuracy: 0.5000\n",
            "Epoch 16/100\n",
            "4/4 [==============================] - 0s 17ms/step - loss: 1.2770 - accuracy: 0.6250 - val_loss: 1.2701 - val_accuracy: 0.5000\n",
            "Epoch 17/100\n",
            "4/4 [==============================] - 0s 23ms/step - loss: 1.2507 - accuracy: 0.6071 - val_loss: 1.2472 - val_accuracy: 0.5000\n",
            "Epoch 18/100\n",
            "4/4 [==============================] - 0s 17ms/step - loss: 1.2252 - accuracy: 0.6161 - val_loss: 1.2256 - val_accuracy: 0.5000\n",
            "Epoch 19/100\n",
            "4/4 [==============================] - 0s 23ms/step - loss: 1.1981 - accuracy: 0.6161 - val_loss: 1.2058 - val_accuracy: 0.5000\n",
            "Epoch 20/100\n",
            "4/4 [==============================] - 0s 17ms/step - loss: 1.1748 - accuracy: 0.6339 - val_loss: 1.1861 - val_accuracy: 0.5000\n",
            "Epoch 21/100\n",
            "4/4 [==============================] - 0s 19ms/step - loss: 1.1493 - accuracy: 0.6429 - val_loss: 1.1691 - val_accuracy: 0.5000\n",
            "Epoch 22/100\n",
            "4/4 [==============================] - 0s 20ms/step - loss: 1.1240 - accuracy: 0.6518 - val_loss: 1.1537 - val_accuracy: 0.5000\n",
            "Epoch 23/100\n",
            "4/4 [==============================] - 0s 21ms/step - loss: 1.1001 - accuracy: 0.6607 - val_loss: 1.1384 - val_accuracy: 0.5714\n",
            "Epoch 24/100\n",
            "4/4 [==============================] - 0s 27ms/step - loss: 1.0778 - accuracy: 0.6696 - val_loss: 1.1247 - val_accuracy: 0.5714\n",
            "Epoch 25/100\n",
            "4/4 [==============================] - 0s 19ms/step - loss: 1.0539 - accuracy: 0.6696 - val_loss: 1.1115 - val_accuracy: 0.5714\n",
            "Epoch 26/100\n",
            "4/4 [==============================] - 0s 20ms/step - loss: 1.0327 - accuracy: 0.6696 - val_loss: 1.1017 - val_accuracy: 0.5714\n",
            "Epoch 27/100\n",
            "4/4 [==============================] - 0s 18ms/step - loss: 1.0115 - accuracy: 0.6696 - val_loss: 1.0916 - val_accuracy: 0.5714\n",
            "Epoch 28/100\n",
            "4/4 [==============================] - 0s 22ms/step - loss: 0.9903 - accuracy: 0.6786 - val_loss: 1.0814 - val_accuracy: 0.5714\n",
            "Epoch 29/100\n",
            "4/4 [==============================] - 0s 20ms/step - loss: 0.9705 - accuracy: 0.6875 - val_loss: 1.0710 - val_accuracy: 0.6071\n",
            "Epoch 30/100\n",
            "4/4 [==============================] - 0s 30ms/step - loss: 0.9504 - accuracy: 0.6964 - val_loss: 1.0616 - val_accuracy: 0.6071\n",
            "Epoch 31/100\n",
            "4/4 [==============================] - 0s 25ms/step - loss: 0.9315 - accuracy: 0.6964 - val_loss: 1.0474 - val_accuracy: 0.6071\n",
            "Epoch 32/100\n",
            "4/4 [==============================] - 0s 22ms/step - loss: 0.9122 - accuracy: 0.6964 - val_loss: 1.0299 - val_accuracy: 0.6429\n",
            "Epoch 33/100\n",
            "4/4 [==============================] - 0s 24ms/step - loss: 0.8932 - accuracy: 0.6964 - val_loss: 1.0138 - val_accuracy: 0.6429\n",
            "Epoch 34/100\n",
            "4/4 [==============================] - 0s 26ms/step - loss: 0.8738 - accuracy: 0.7054 - val_loss: 0.9979 - val_accuracy: 0.6429\n",
            "Epoch 35/100\n",
            "4/4 [==============================] - 0s 24ms/step - loss: 0.8531 - accuracy: 0.7054 - val_loss: 0.9799 - val_accuracy: 0.6429\n",
            "Epoch 36/100\n",
            "4/4 [==============================] - 0s 13ms/step - loss: 0.8343 - accuracy: 0.7054 - val_loss: 0.9614 - val_accuracy: 0.6429\n",
            "Epoch 37/100\n",
            "4/4 [==============================] - 0s 15ms/step - loss: 0.8151 - accuracy: 0.7143 - val_loss: 0.9489 - val_accuracy: 0.6429\n",
            "Epoch 38/100\n",
            "4/4 [==============================] - 0s 14ms/step - loss: 0.7986 - accuracy: 0.7143 - val_loss: 0.9361 - val_accuracy: 0.6429\n",
            "Epoch 39/100\n",
            "4/4 [==============================] - 0s 12ms/step - loss: 0.7798 - accuracy: 0.7054 - val_loss: 0.9184 - val_accuracy: 0.6429\n",
            "Epoch 40/100\n",
            "4/4 [==============================] - 0s 17ms/step - loss: 0.7621 - accuracy: 0.6964 - val_loss: 0.8986 - val_accuracy: 0.6786\n",
            "Epoch 41/100\n",
            "4/4 [==============================] - 0s 13ms/step - loss: 0.7432 - accuracy: 0.6964 - val_loss: 0.8815 - val_accuracy: 0.6786\n",
            "Epoch 42/100\n",
            "4/4 [==============================] - 0s 12ms/step - loss: 0.7243 - accuracy: 0.6964 - val_loss: 0.8685 - val_accuracy: 0.6786\n",
            "Epoch 43/100\n",
            "4/4 [==============================] - 0s 18ms/step - loss: 0.7061 - accuracy: 0.6964 - val_loss: 0.8589 - val_accuracy: 0.6786\n",
            "Epoch 44/100\n",
            "4/4 [==============================] - 0s 12ms/step - loss: 0.6897 - accuracy: 0.7143 - val_loss: 0.8467 - val_accuracy: 0.6786\n",
            "Epoch 45/100\n",
            "4/4 [==============================] - 0s 14ms/step - loss: 0.6704 - accuracy: 0.7143 - val_loss: 0.8313 - val_accuracy: 0.6786\n",
            "Epoch 46/100\n",
            "4/4 [==============================] - 0s 12ms/step - loss: 0.6542 - accuracy: 0.7232 - val_loss: 0.8139 - val_accuracy: 0.6786\n",
            "Epoch 47/100\n",
            "4/4 [==============================] - 0s 18ms/step - loss: 0.6383 - accuracy: 0.7321 - val_loss: 0.7989 - val_accuracy: 0.6786\n",
            "Epoch 48/100\n",
            "4/4 [==============================] - 0s 21ms/step - loss: 0.6221 - accuracy: 0.7500 - val_loss: 0.7855 - val_accuracy: 0.6786\n",
            "Epoch 49/100\n",
            "4/4 [==============================] - 0s 13ms/step - loss: 0.6090 - accuracy: 0.7500 - val_loss: 0.7717 - val_accuracy: 0.7143\n",
            "Epoch 50/100\n",
            "4/4 [==============================] - 0s 13ms/step - loss: 0.5954 - accuracy: 0.7500 - val_loss: 0.7609 - val_accuracy: 0.7143\n",
            "Epoch 51/100\n",
            "4/4 [==============================] - 0s 12ms/step - loss: 0.5812 - accuracy: 0.7679 - val_loss: 0.7450 - val_accuracy: 0.7500\n",
            "Epoch 52/100\n",
            "4/4 [==============================] - 0s 12ms/step - loss: 0.5684 - accuracy: 0.7768 - val_loss: 0.7396 - val_accuracy: 0.7500\n",
            "Epoch 53/100\n",
            "4/4 [==============================] - 0s 14ms/step - loss: 0.5573 - accuracy: 0.7857 - val_loss: 0.7298 - val_accuracy: 0.7500\n",
            "Epoch 54/100\n",
            "4/4 [==============================] - 0s 13ms/step - loss: 0.5454 - accuracy: 0.7946 - val_loss: 0.7193 - val_accuracy: 0.7500\n",
            "Epoch 55/100\n",
            "4/4 [==============================] - 0s 12ms/step - loss: 0.5360 - accuracy: 0.8036 - val_loss: 0.7083 - val_accuracy: 0.7500\n",
            "Epoch 56/100\n",
            "4/4 [==============================] - 0s 19ms/step - loss: 0.5240 - accuracy: 0.8036 - val_loss: 0.7052 - val_accuracy: 0.7500\n",
            "Epoch 57/100\n",
            "4/4 [==============================] - 0s 13ms/step - loss: 0.5137 - accuracy: 0.8125 - val_loss: 0.6986 - val_accuracy: 0.7500\n",
            "Epoch 58/100\n",
            "4/4 [==============================] - 0s 13ms/step - loss: 0.5033 - accuracy: 0.8214 - val_loss: 0.6895 - val_accuracy: 0.7500\n",
            "Epoch 59/100\n",
            "4/4 [==============================] - 0s 23ms/step - loss: 0.4934 - accuracy: 0.8214 - val_loss: 0.6748 - val_accuracy: 0.7500\n",
            "Epoch 60/100\n",
            "4/4 [==============================] - 0s 16ms/step - loss: 0.4824 - accuracy: 0.8304 - val_loss: 0.6633 - val_accuracy: 0.7500\n",
            "Epoch 61/100\n",
            "4/4 [==============================] - 0s 14ms/step - loss: 0.4728 - accuracy: 0.8393 - val_loss: 0.6569 - val_accuracy: 0.7500\n",
            "Epoch 62/100\n",
            "4/4 [==============================] - 0s 12ms/step - loss: 0.4625 - accuracy: 0.8393 - val_loss: 0.6549 - val_accuracy: 0.7500\n",
            "Epoch 63/100\n",
            "4/4 [==============================] - 0s 13ms/step - loss: 0.4536 - accuracy: 0.8482 - val_loss: 0.6551 - val_accuracy: 0.7500\n",
            "Epoch 64/100\n",
            "4/4 [==============================] - 0s 19ms/step - loss: 0.4466 - accuracy: 0.8393 - val_loss: 0.6559 - val_accuracy: 0.7500\n",
            "Epoch 65/100\n",
            "4/4 [==============================] - 0s 14ms/step - loss: 0.4401 - accuracy: 0.8393 - val_loss: 0.6553 - val_accuracy: 0.7500\n",
            "Epoch 66/100\n",
            "4/4 [==============================] - 0s 19ms/step - loss: 0.4317 - accuracy: 0.8482 - val_loss: 0.6503 - val_accuracy: 0.7500\n",
            "Epoch 67/100\n",
            "4/4 [==============================] - 0s 14ms/step - loss: 0.4249 - accuracy: 0.8482 - val_loss: 0.6455 - val_accuracy: 0.7500\n",
            "Epoch 68/100\n",
            "4/4 [==============================] - 0s 14ms/step - loss: 0.4187 - accuracy: 0.8482 - val_loss: 0.6382 - val_accuracy: 0.7500\n",
            "Epoch 69/100\n",
            "4/4 [==============================] - 0s 14ms/step - loss: 0.4112 - accuracy: 0.8482 - val_loss: 0.6344 - val_accuracy: 0.7500\n",
            "Epoch 70/100\n",
            "4/4 [==============================] - 0s 13ms/step - loss: 0.4051 - accuracy: 0.8482 - val_loss: 0.6325 - val_accuracy: 0.7500\n",
            "Epoch 71/100\n",
            "4/4 [==============================] - 0s 13ms/step - loss: 0.3989 - accuracy: 0.8482 - val_loss: 0.6310 - val_accuracy: 0.7500\n",
            "Epoch 72/100\n",
            "4/4 [==============================] - 0s 15ms/step - loss: 0.3934 - accuracy: 0.8482 - val_loss: 0.6290 - val_accuracy: 0.7500\n",
            "Epoch 73/100\n",
            "4/4 [==============================] - 0s 13ms/step - loss: 0.3873 - accuracy: 0.8482 - val_loss: 0.6269 - val_accuracy: 0.7500\n",
            "Epoch 74/100\n",
            "4/4 [==============================] - 0s 12ms/step - loss: 0.3817 - accuracy: 0.8571 - val_loss: 0.6222 - val_accuracy: 0.7500\n",
            "Epoch 75/100\n",
            "4/4 [==============================] - 0s 18ms/step - loss: 0.3794 - accuracy: 0.8393 - val_loss: 0.6116 - val_accuracy: 0.7500\n",
            "Epoch 76/100\n",
            "4/4 [==============================] - 0s 18ms/step - loss: 0.3744 - accuracy: 0.8393 - val_loss: 0.6020 - val_accuracy: 0.7500\n",
            "Epoch 77/100\n",
            "4/4 [==============================] - 0s 22ms/step - loss: 0.3671 - accuracy: 0.8304 - val_loss: 0.6005 - val_accuracy: 0.7500\n",
            "Epoch 78/100\n",
            "4/4 [==============================] - 0s 13ms/step - loss: 0.3625 - accuracy: 0.8571 - val_loss: 0.6053 - val_accuracy: 0.7500\n",
            "Epoch 79/100\n",
            "4/4 [==============================] - 0s 20ms/step - loss: 0.3587 - accuracy: 0.8571 - val_loss: 0.6101 - val_accuracy: 0.7500\n",
            "Epoch 80/100\n",
            "4/4 [==============================] - 0s 18ms/step - loss: 0.3561 - accuracy: 0.8571 - val_loss: 0.6117 - val_accuracy: 0.7500\n",
            "Epoch 81/100\n",
            "4/4 [==============================] - 0s 13ms/step - loss: 0.3498 - accuracy: 0.8571 - val_loss: 0.6071 - val_accuracy: 0.7500\n",
            "Epoch 82/100\n",
            "4/4 [==============================] - 0s 13ms/step - loss: 0.3456 - accuracy: 0.8571 - val_loss: 0.5972 - val_accuracy: 0.7500\n",
            "Epoch 83/100\n",
            "4/4 [==============================] - 0s 12ms/step - loss: 0.3411 - accuracy: 0.8571 - val_loss: 0.5943 - val_accuracy: 0.7500\n",
            "Epoch 84/100\n",
            "4/4 [==============================] - 0s 13ms/step - loss: 0.3388 - accuracy: 0.8482 - val_loss: 0.5957 - val_accuracy: 0.7500\n",
            "Epoch 85/100\n",
            "4/4 [==============================] - 0s 13ms/step - loss: 0.3343 - accuracy: 0.8571 - val_loss: 0.5944 - val_accuracy: 0.7500\n",
            "Epoch 86/100\n",
            "4/4 [==============================] - 0s 13ms/step - loss: 0.3284 - accuracy: 0.8482 - val_loss: 0.5990 - val_accuracy: 0.7500\n",
            "Epoch 87/100\n",
            "4/4 [==============================] - 0s 20ms/step - loss: 0.3286 - accuracy: 0.8571 - val_loss: 0.6053 - val_accuracy: 0.7500\n",
            "Epoch 88/100\n",
            "4/4 [==============================] - 0s 13ms/step - loss: 0.3229 - accuracy: 0.8482 - val_loss: 0.6004 - val_accuracy: 0.7500\n",
            "Epoch 89/100\n",
            "4/4 [==============================] - 0s 13ms/step - loss: 0.3186 - accuracy: 0.8571 - val_loss: 0.5926 - val_accuracy: 0.7500\n",
            "Epoch 90/100\n",
            "4/4 [==============================] - 0s 13ms/step - loss: 0.3146 - accuracy: 0.8661 - val_loss: 0.5775 - val_accuracy: 0.7500\n",
            "Epoch 91/100\n",
            "4/4 [==============================] - 0s 13ms/step - loss: 0.3120 - accuracy: 0.8661 - val_loss: 0.5698 - val_accuracy: 0.7500\n",
            "Epoch 92/100\n",
            "4/4 [==============================] - 0s 13ms/step - loss: 0.3088 - accuracy: 0.8750 - val_loss: 0.5613 - val_accuracy: 0.7500\n",
            "Epoch 93/100\n",
            "4/4 [==============================] - 0s 13ms/step - loss: 0.3064 - accuracy: 0.8839 - val_loss: 0.5592 - val_accuracy: 0.7500\n",
            "Epoch 94/100\n",
            "4/4 [==============================] - 0s 14ms/step - loss: 0.3032 - accuracy: 0.8929 - val_loss: 0.5722 - val_accuracy: 0.7500\n",
            "Epoch 95/100\n",
            "4/4 [==============================] - 0s 12ms/step - loss: 0.3006 - accuracy: 0.8929 - val_loss: 0.5780 - val_accuracy: 0.7500\n",
            "Epoch 96/100\n",
            "4/4 [==============================] - 0s 16ms/step - loss: 0.2981 - accuracy: 0.8839 - val_loss: 0.5819 - val_accuracy: 0.7500\n",
            "Epoch 97/100\n",
            "4/4 [==============================] - 0s 13ms/step - loss: 0.2929 - accuracy: 0.8929 - val_loss: 0.5735 - val_accuracy: 0.7500\n",
            "Epoch 98/100\n",
            "4/4 [==============================] - 0s 12ms/step - loss: 0.2901 - accuracy: 0.8839 - val_loss: 0.5772 - val_accuracy: 0.7500\n",
            "Epoch 99/100\n",
            "4/4 [==============================] - 0s 14ms/step - loss: 0.2892 - accuracy: 0.8929 - val_loss: 0.5783 - val_accuracy: 0.7500\n",
            "Epoch 100/100\n",
            "4/4 [==============================] - 0s 12ms/step - loss: 0.2860 - accuracy: 0.8929 - val_loss: 0.5752 - val_accuracy: 0.7500\n"
          ]
        },
        {
          "output_type": "execute_result",
          "data": {
            "text/plain": [
              "<keras.src.callbacks.History at 0x7d79cf4df730>"
            ]
          },
          "metadata": {},
          "execution_count": 55
        }
      ]
    },
    {
      "cell_type": "code",
      "source": [
        "loss = model.evaluate(x_test, y_test)\n",
        "print(\"Test Loss:\", loss)"
      ],
      "metadata": {
        "colab": {
          "base_uri": "https://localhost:8080/"
        },
        "id": "zS1hsbn3PE8Y",
        "outputId": "6e62bbdc-f58e-4fd1-e4be-49d993c4565d"
      },
      "execution_count": 62,
      "outputs": [
        {
          "output_type": "stream",
          "name": "stdout",
          "text": [
            "2/2 [==============================] - 0s 11ms/step - loss: 0.4642 - accuracy: 0.8167\n",
            "Test Loss: [0.4642157256603241, 0.8166666626930237]\n"
          ]
        }
      ]
    },
    {
      "cell_type": "code",
      "source": [
        "from sklearn.metrics import accuracy_score\n",
        "y_pred = model.predict(x_test)\n",
        "y_pred_classes = np.argmax(y_pred, axis=1)\n",
        "\n",
        "accuracy = accuracy_score(y_test, y_pred_classes)\n",
        "print(\"Test Accuracy:\", accuracy)"
      ],
      "metadata": {
        "colab": {
          "base_uri": "https://localhost:8080/"
        },
        "id": "4EXycQEvAwm-",
        "outputId": "e6c5ee1c-2626-4019-c9d8-7640612e48b4"
      },
      "execution_count": 61,
      "outputs": [
        {
          "output_type": "stream",
          "name": "stdout",
          "text": [
            "2/2 [==============================] - 0s 8ms/step\n",
            "Test Accuracy: 0.8166666666666667\n"
          ]
        }
      ]
    },
    {
      "cell_type": "markdown",
      "source": [
        "## Predicting Random Data"
      ],
      "metadata": {
        "id": "KZ3Cn9AH_b1c"
      }
    },
    {
      "cell_type": "code",
      "source": [
        "import numpy as np\n",
        "\n",
        "y_p = model.predict((scaler.transform([[61,\t0,\t1,\t0,\t18.043]])))\n",
        "\n",
        "predicted_class = np.argmax(y_p)\n",
        "predicted_drug = label_encoder.inverse_transform([predicted_class])[0]  #inversing the Standard Scaling\n",
        "\n",
        "print(\"Predicted Drug:\", predicted_drug)"
      ],
      "metadata": {
        "colab": {
          "base_uri": "https://localhost:8080/"
        },
        "id": "BRS7dsu9Vhvc",
        "outputId": "57691d52-f583-4dc5-cae9-11d6a6a61c14"
      },
      "execution_count": 59,
      "outputs": [
        {
          "output_type": "stream",
          "name": "stderr",
          "text": [
            "/usr/local/lib/python3.10/dist-packages/sklearn/base.py:439: UserWarning: X does not have valid feature names, but StandardScaler was fitted with feature names\n",
            "  warnings.warn(\n"
          ]
        },
        {
          "output_type": "stream",
          "name": "stdout",
          "text": [
            "1/1 [==============================] - 0s 126ms/step\n",
            "Predicted Drug: DrugY\n"
          ]
        }
      ]
    }
  ]
}